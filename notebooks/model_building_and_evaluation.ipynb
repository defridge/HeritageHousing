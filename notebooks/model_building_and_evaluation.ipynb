{
 "cells": [
  {
   "cell_type": "markdown",
   "metadata": {},
   "source": [
    "# **Model Building and Evaluation**\n",
    "\n",
    "## Objectives\n",
    "\n",
    "* **Business Requirement 2:**\n",
    "    * Develop a machine learning model to predict the sale price of Lydia's four inherited houses and any house in Ames, Iowa, with at least 75% accuracy.\n",
    "\n",
    "## Inputs\n",
    "\n",
    "* Main Dataset:\n",
    "    * 'outputs/datasets/collection/HousePricing.csv'\n",
    "    \n",
    "* Inherited Houses Dataset:\n",
    "    * 'outputs/datasets/collection/InheritedHouses.csv'\n",
    "\n",
    "## Outputs\n",
    "\n",
    "* **Trained Models:** Linear Regression, Random Forest, XGBoost models trained to predict house prices.\n",
    "\n",
    "* **Predicted Sale Prices:** Predictions of house prices for Lydia's inherited houses using the trained models.\n",
    "\n",
    "* **Comparison Table:** A summary table comparing the performance of the three models based on R² and Mean Squared Error (MSE) on both training and testing datasets.\n",
    "\n",
    "* **CSV File with Predictions:** The predicted sale prices of the inherited houses saved to 'outputs/datasets/collection/inherited_houses_predictions.csv'."
   ]
  },
  {
   "cell_type": "markdown",
   "metadata": {},
   "source": [
    "## Install Python packages in the Notebook"
   ]
  },
  {
   "cell_type": "code",
   "execution_count": 1,
   "metadata": {},
   "outputs": [
    {
     "name": "stdout",
     "output_type": "stream",
     "text": [
      "Requirement already satisfied: pandas in /workspace/.pip-modules/lib/python3.12/site-packages (from -r /workspace/HeritageHousing/requirements.txt (line 1)) (2.2.2)\n",
      "Requirement already satisfied: numpy in /workspace/.pip-modules/lib/python3.12/site-packages (from -r /workspace/HeritageHousing/requirements.txt (line 2)) (1.26.4)\n",
      "Requirement already satisfied: matplotlib in /workspace/.pip-modules/lib/python3.12/site-packages (from -r /workspace/HeritageHousing/requirements.txt (line 3)) (3.9.2)\n",
      "Requirement already satisfied: seaborn in /workspace/.pip-modules/lib/python3.12/site-packages (from -r /workspace/HeritageHousing/requirements.txt (line 4)) (0.13.2)\n",
      "Requirement already satisfied: scikit-learn in /workspace/.pip-modules/lib/python3.12/site-packages (from -r /workspace/HeritageHousing/requirements.txt (line 5)) (1.5.1)\n",
      "Requirement already satisfied: streamlit in /workspace/.pip-modules/lib/python3.12/site-packages (from -r /workspace/HeritageHousing/requirements.txt (line 6)) (1.38.0)\n",
      "Requirement already satisfied: gunicorn in /workspace/.pip-modules/lib/python3.12/site-packages (from -r /workspace/HeritageHousing/requirements.txt (line 7)) (23.0.0)\n",
      "Requirement already satisfied: kaggle in /workspace/.pip-modules/lib/python3.12/site-packages (from -r /workspace/HeritageHousing/requirements.txt (line 8)) (1.6.17)\n",
      "Requirement already satisfied: ydata-profiling in /workspace/.pip-modules/lib/python3.12/site-packages (from -r /workspace/HeritageHousing/requirements.txt (line 9)) (4.9.0)\n",
      "Requirement already satisfied: feature-engine in /workspace/.pip-modules/lib/python3.12/site-packages (from -r /workspace/HeritageHousing/requirements.txt (line 10)) (1.8.1)\n",
      "Requirement already satisfied: xgboost in /workspace/.pip-modules/lib/python3.12/site-packages (from -r /workspace/HeritageHousing/requirements.txt (line 11)) (2.1.1)\n",
      "Requirement already satisfied: joblib in /workspace/.pip-modules/lib/python3.12/site-packages (from -r /workspace/HeritageHousing/requirements.txt (line 12)) (1.4.2)\n",
      "Requirement already satisfied: python-dateutil>=2.8.2 in /home/gitpod/.pyenv/versions/3.12.2/lib/python3.12/site-packages (from pandas->-r /workspace/HeritageHousing/requirements.txt (line 1)) (2.9.0.post0)\n",
      "Requirement already satisfied: pytz>=2020.1 in /workspace/.pip-modules/lib/python3.12/site-packages (from pandas->-r /workspace/HeritageHousing/requirements.txt (line 1)) (2024.1)\n",
      "Requirement already satisfied: tzdata>=2022.7 in /workspace/.pip-modules/lib/python3.12/site-packages (from pandas->-r /workspace/HeritageHousing/requirements.txt (line 1)) (2024.1)\n",
      "Requirement already satisfied: contourpy>=1.0.1 in /workspace/.pip-modules/lib/python3.12/site-packages (from matplotlib->-r /workspace/HeritageHousing/requirements.txt (line 3)) (1.3.0)\n",
      "Requirement already satisfied: cycler>=0.10 in /workspace/.pip-modules/lib/python3.12/site-packages (from matplotlib->-r /workspace/HeritageHousing/requirements.txt (line 3)) (0.12.1)\n",
      "Requirement already satisfied: fonttools>=4.22.0 in /workspace/.pip-modules/lib/python3.12/site-packages (from matplotlib->-r /workspace/HeritageHousing/requirements.txt (line 3)) (4.53.1)\n",
      "Requirement already satisfied: kiwisolver>=1.3.1 in /workspace/.pip-modules/lib/python3.12/site-packages (from matplotlib->-r /workspace/HeritageHousing/requirements.txt (line 3)) (1.4.5)\n",
      "Requirement already satisfied: packaging>=20.0 in /home/gitpod/.pyenv/versions/3.12.2/lib/python3.12/site-packages (from matplotlib->-r /workspace/HeritageHousing/requirements.txt (line 3)) (24.1)\n",
      "Requirement already satisfied: pillow>=8 in /workspace/.pip-modules/lib/python3.12/site-packages (from matplotlib->-r /workspace/HeritageHousing/requirements.txt (line 3)) (10.4.0)\n",
      "Requirement already satisfied: pyparsing>=2.3.1 in /workspace/.pip-modules/lib/python3.12/site-packages (from matplotlib->-r /workspace/HeritageHousing/requirements.txt (line 3)) (3.1.4)\n",
      "Requirement already satisfied: scipy>=1.6.0 in /workspace/.pip-modules/lib/python3.12/site-packages (from scikit-learn->-r /workspace/HeritageHousing/requirements.txt (line 5)) (1.13.1)\n",
      "Requirement already satisfied: threadpoolctl>=3.1.0 in /workspace/.pip-modules/lib/python3.12/site-packages (from scikit-learn->-r /workspace/HeritageHousing/requirements.txt (line 5)) (3.5.0)\n",
      "Requirement already satisfied: altair<6,>=4.0 in /workspace/.pip-modules/lib/python3.12/site-packages (from streamlit->-r /workspace/HeritageHousing/requirements.txt (line 6)) (5.4.1)\n",
      "Requirement already satisfied: blinker<2,>=1.0.0 in /workspace/.pip-modules/lib/python3.12/site-packages (from streamlit->-r /workspace/HeritageHousing/requirements.txt (line 6)) (1.8.2)\n",
      "Requirement already satisfied: cachetools<6,>=4.0 in /workspace/.pip-modules/lib/python3.12/site-packages (from streamlit->-r /workspace/HeritageHousing/requirements.txt (line 6)) (5.5.0)\n",
      "Requirement already satisfied: click<9,>=7.0 in /workspace/.pip-modules/lib/python3.12/site-packages (from streamlit->-r /workspace/HeritageHousing/requirements.txt (line 6)) (8.1.7)\n",
      "Requirement already satisfied: protobuf<6,>=3.20 in /workspace/.pip-modules/lib/python3.12/site-packages (from streamlit->-r /workspace/HeritageHousing/requirements.txt (line 6)) (5.28.0)\n",
      "Requirement already satisfied: pyarrow>=7.0 in /workspace/.pip-modules/lib/python3.12/site-packages (from streamlit->-r /workspace/HeritageHousing/requirements.txt (line 6)) (17.0.0)\n",
      "Requirement already satisfied: requests<3,>=2.27 in /home/gitpod/.pyenv/versions/3.12.2/lib/python3.12/site-packages (from streamlit->-r /workspace/HeritageHousing/requirements.txt (line 6)) (2.32.3)\n",
      "Requirement already satisfied: rich<14,>=10.14.0 in /home/gitpod/.pyenv/versions/3.12.2/lib/python3.12/site-packages (from streamlit->-r /workspace/HeritageHousing/requirements.txt (line 6)) (13.8.0)\n",
      "Requirement already satisfied: tenacity<9,>=8.1.0 in /workspace/.pip-modules/lib/python3.12/site-packages (from streamlit->-r /workspace/HeritageHousing/requirements.txt (line 6)) (8.5.0)\n",
      "Requirement already satisfied: toml<2,>=0.10.1 in /workspace/.pip-modules/lib/python3.12/site-packages (from streamlit->-r /workspace/HeritageHousing/requirements.txt (line 6)) (0.10.2)\n",
      "Requirement already satisfied: typing-extensions<5,>=4.3.0 in /home/gitpod/.pyenv/versions/3.12.2/lib/python3.12/site-packages (from streamlit->-r /workspace/HeritageHousing/requirements.txt (line 6)) (4.12.2)\n",
      "Requirement already satisfied: gitpython!=3.1.19,<4,>=3.0.7 in /workspace/.pip-modules/lib/python3.12/site-packages (from streamlit->-r /workspace/HeritageHousing/requirements.txt (line 6)) (3.1.43)\n",
      "Requirement already satisfied: pydeck<1,>=0.8.0b4 in /workspace/.pip-modules/lib/python3.12/site-packages (from streamlit->-r /workspace/HeritageHousing/requirements.txt (line 6)) (0.9.1)\n",
      "Requirement already satisfied: tornado<7,>=6.0.3 in /home/gitpod/.pyenv/versions/3.12.2/lib/python3.12/site-packages (from streamlit->-r /workspace/HeritageHousing/requirements.txt (line 6)) (6.4.1)\n",
      "Requirement already satisfied: watchdog<5,>=2.1.5 in /workspace/.pip-modules/lib/python3.12/site-packages (from streamlit->-r /workspace/HeritageHousing/requirements.txt (line 6)) (4.0.2)\n",
      "Requirement already satisfied: six>=1.10 in /home/gitpod/.pyenv/versions/3.12.2/lib/python3.12/site-packages (from kaggle->-r /workspace/HeritageHousing/requirements.txt (line 8)) (1.16.0)\n",
      "Requirement already satisfied: certifi>=2023.7.22 in /home/gitpod/.pyenv/versions/3.12.2/lib/python3.12/site-packages (from kaggle->-r /workspace/HeritageHousing/requirements.txt (line 8)) (2024.8.30)\n",
      "Requirement already satisfied: tqdm in /workspace/.pip-modules/lib/python3.12/site-packages (from kaggle->-r /workspace/HeritageHousing/requirements.txt (line 8)) (4.66.5)\n",
      "Requirement already satisfied: python-slugify in /workspace/.pip-modules/lib/python3.12/site-packages (from kaggle->-r /workspace/HeritageHousing/requirements.txt (line 8)) (8.0.4)\n",
      "Requirement already satisfied: urllib3 in /home/gitpod/.pyenv/versions/3.12.2/lib/python3.12/site-packages (from kaggle->-r /workspace/HeritageHousing/requirements.txt (line 8)) (2.2.2)\n",
      "Requirement already satisfied: bleach in /home/gitpod/.pyenv/versions/3.12.2/lib/python3.12/site-packages (from kaggle->-r /workspace/HeritageHousing/requirements.txt (line 8)) (6.1.0)\n",
      "Requirement already satisfied: pydantic>=2 in /workspace/.pip-modules/lib/python3.12/site-packages (from ydata-profiling->-r /workspace/HeritageHousing/requirements.txt (line 9)) (2.8.2)\n",
      "Requirement already satisfied: PyYAML<6.1,>=5.0.0 in /home/gitpod/.pyenv/versions/3.12.2/lib/python3.12/site-packages (from ydata-profiling->-r /workspace/HeritageHousing/requirements.txt (line 9)) (6.0.2)\n",
      "Requirement already satisfied: jinja2<3.2,>=2.11.1 in /home/gitpod/.pyenv/versions/3.12.2/lib/python3.12/site-packages (from ydata-profiling->-r /workspace/HeritageHousing/requirements.txt (line 9)) (3.1.4)\n",
      "Requirement already satisfied: visions<0.7.7,>=0.7.5 in /workspace/.pip-modules/lib/python3.12/site-packages (from visions[type_image_path]<0.7.7,>=0.7.5->ydata-profiling->-r /workspace/HeritageHousing/requirements.txt (line 9)) (0.7.6)\n",
      "Requirement already satisfied: htmlmin==0.1.12 in /workspace/.pip-modules/lib/python3.12/site-packages (from ydata-profiling->-r /workspace/HeritageHousing/requirements.txt (line 9)) (0.1.12)\n",
      "Requirement already satisfied: phik<0.13,>=0.11.1 in /workspace/.pip-modules/lib/python3.12/site-packages (from ydata-profiling->-r /workspace/HeritageHousing/requirements.txt (line 9)) (0.12.4)\n",
      "Requirement already satisfied: multimethod<2,>=1.4 in /workspace/.pip-modules/lib/python3.12/site-packages (from ydata-profiling->-r /workspace/HeritageHousing/requirements.txt (line 9)) (1.12)\n",
      "Requirement already satisfied: statsmodels<1,>=0.13.2 in /workspace/.pip-modules/lib/python3.12/site-packages (from ydata-profiling->-r /workspace/HeritageHousing/requirements.txt (line 9)) (0.14.2)\n",
      "Requirement already satisfied: typeguard<5,>=3 in /workspace/.pip-modules/lib/python3.12/site-packages (from ydata-profiling->-r /workspace/HeritageHousing/requirements.txt (line 9)) (4.3.0)\n",
      "Requirement already satisfied: imagehash==4.3.1 in /workspace/.pip-modules/lib/python3.12/site-packages (from ydata-profiling->-r /workspace/HeritageHousing/requirements.txt (line 9)) (4.3.1)\n",
      "Requirement already satisfied: wordcloud>=1.9.1 in /workspace/.pip-modules/lib/python3.12/site-packages (from ydata-profiling->-r /workspace/HeritageHousing/requirements.txt (line 9)) (1.9.3)\n",
      "Requirement already satisfied: dacite>=1.8 in /workspace/.pip-modules/lib/python3.12/site-packages (from ydata-profiling->-r /workspace/HeritageHousing/requirements.txt (line 9)) (1.8.1)\n",
      "Requirement already satisfied: numba<1,>=0.56.0 in /workspace/.pip-modules/lib/python3.12/site-packages (from ydata-profiling->-r /workspace/HeritageHousing/requirements.txt (line 9)) (0.60.0)\n",
      "Requirement already satisfied: PyWavelets in /workspace/.pip-modules/lib/python3.12/site-packages (from imagehash==4.3.1->ydata-profiling->-r /workspace/HeritageHousing/requirements.txt (line 9)) (1.7.0)\n",
      "Requirement already satisfied: nvidia-nccl-cu12 in /workspace/.pip-modules/lib/python3.12/site-packages (from xgboost->-r /workspace/HeritageHousing/requirements.txt (line 11)) (2.22.3)\n",
      "Requirement already satisfied: jsonschema>=3.0 in /home/gitpod/.pyenv/versions/3.12.2/lib/python3.12/site-packages (from altair<6,>=4.0->streamlit->-r /workspace/HeritageHousing/requirements.txt (line 6)) (4.23.0)\n",
      "Requirement already satisfied: narwhals>=1.5.2 in /workspace/.pip-modules/lib/python3.12/site-packages (from altair<6,>=4.0->streamlit->-r /workspace/HeritageHousing/requirements.txt (line 6)) (1.6.1)\n",
      "Requirement already satisfied: gitdb<5,>=4.0.1 in /workspace/.pip-modules/lib/python3.12/site-packages (from gitpython!=3.1.19,<4,>=3.0.7->streamlit->-r /workspace/HeritageHousing/requirements.txt (line 6)) (4.0.11)\n",
      "Requirement already satisfied: MarkupSafe>=2.0 in /home/gitpod/.pyenv/versions/3.12.2/lib/python3.12/site-packages (from jinja2<3.2,>=2.11.1->ydata-profiling->-r /workspace/HeritageHousing/requirements.txt (line 9)) (2.1.5)\n",
      "Requirement already satisfied: llvmlite<0.44,>=0.43.0dev0 in /workspace/.pip-modules/lib/python3.12/site-packages (from numba<1,>=0.56.0->ydata-profiling->-r /workspace/HeritageHousing/requirements.txt (line 9)) (0.43.0)\n",
      "Requirement already satisfied: annotated-types>=0.4.0 in /workspace/.pip-modules/lib/python3.12/site-packages (from pydantic>=2->ydata-profiling->-r /workspace/HeritageHousing/requirements.txt (line 9)) (0.7.0)\n",
      "Requirement already satisfied: pydantic-core==2.20.1 in /workspace/.pip-modules/lib/python3.12/site-packages (from pydantic>=2->ydata-profiling->-r /workspace/HeritageHousing/requirements.txt (line 9)) (2.20.1)\n",
      "Requirement already satisfied: charset-normalizer<4,>=2 in /home/gitpod/.pyenv/versions/3.12.2/lib/python3.12/site-packages (from requests<3,>=2.27->streamlit->-r /workspace/HeritageHousing/requirements.txt (line 6)) (3.3.2)\n",
      "Requirement already satisfied: idna<4,>=2.5 in /home/gitpod/.pyenv/versions/3.12.2/lib/python3.12/site-packages (from requests<3,>=2.27->streamlit->-r /workspace/HeritageHousing/requirements.txt (line 6)) (3.8)\n",
      "Requirement already satisfied: markdown-it-py>=2.2.0 in /home/gitpod/.pyenv/versions/3.12.2/lib/python3.12/site-packages (from rich<14,>=10.14.0->streamlit->-r /workspace/HeritageHousing/requirements.txt (line 6)) (3.0.0)\n",
      "Requirement already satisfied: pygments<3.0.0,>=2.13.0 in /home/gitpod/.pyenv/versions/3.12.2/lib/python3.12/site-packages (from rich<14,>=10.14.0->streamlit->-r /workspace/HeritageHousing/requirements.txt (line 6)) (2.18.0)\n",
      "Requirement already satisfied: patsy>=0.5.6 in /workspace/.pip-modules/lib/python3.12/site-packages (from statsmodels<1,>=0.13.2->ydata-profiling->-r /workspace/HeritageHousing/requirements.txt (line 9)) (0.5.6)\n",
      "Requirement already satisfied: attrs>=19.3.0 in /home/gitpod/.pyenv/versions/3.12.2/lib/python3.12/site-packages (from visions<0.7.7,>=0.7.5->visions[type_image_path]<0.7.7,>=0.7.5->ydata-profiling->-r /workspace/HeritageHousing/requirements.txt (line 9)) (24.2.0)\n",
      "Requirement already satisfied: networkx>=2.4 in /workspace/.pip-modules/lib/python3.12/site-packages (from visions<0.7.7,>=0.7.5->visions[type_image_path]<0.7.7,>=0.7.5->ydata-profiling->-r /workspace/HeritageHousing/requirements.txt (line 9)) (3.3)\n",
      "Requirement already satisfied: webencodings in /home/gitpod/.pyenv/versions/3.12.2/lib/python3.12/site-packages (from bleach->kaggle->-r /workspace/HeritageHousing/requirements.txt (line 8)) (0.5.1)\n",
      "Requirement already satisfied: text-unidecode>=1.3 in /workspace/.pip-modules/lib/python3.12/site-packages (from python-slugify->kaggle->-r /workspace/HeritageHousing/requirements.txt (line 8)) (1.3)\n",
      "Requirement already satisfied: smmap<6,>=3.0.1 in /workspace/.pip-modules/lib/python3.12/site-packages (from gitdb<5,>=4.0.1->gitpython!=3.1.19,<4,>=3.0.7->streamlit->-r /workspace/HeritageHousing/requirements.txt (line 6)) (5.0.1)\n",
      "Requirement already satisfied: jsonschema-specifications>=2023.03.6 in /home/gitpod/.pyenv/versions/3.12.2/lib/python3.12/site-packages (from jsonschema>=3.0->altair<6,>=4.0->streamlit->-r /workspace/HeritageHousing/requirements.txt (line 6)) (2023.12.1)\n",
      "Requirement already satisfied: referencing>=0.28.4 in /home/gitpod/.pyenv/versions/3.12.2/lib/python3.12/site-packages (from jsonschema>=3.0->altair<6,>=4.0->streamlit->-r /workspace/HeritageHousing/requirements.txt (line 6)) (0.35.1)\n",
      "Requirement already satisfied: rpds-py>=0.7.1 in /home/gitpod/.pyenv/versions/3.12.2/lib/python3.12/site-packages (from jsonschema>=3.0->altair<6,>=4.0->streamlit->-r /workspace/HeritageHousing/requirements.txt (line 6)) (0.20.0)\n",
      "Requirement already satisfied: mdurl~=0.1 in /home/gitpod/.pyenv/versions/3.12.2/lib/python3.12/site-packages (from markdown-it-py>=2.2.0->rich<14,>=10.14.0->streamlit->-r /workspace/HeritageHousing/requirements.txt (line 6)) (0.1.2)\n",
      "Note: you may need to restart the kernel to use updated packages.\n"
     ]
    }
   ],
   "source": [
    "%pip install -r /workspace/HeritageHousing/requirements.txt"
   ]
  },
  {
   "cell_type": "markdown",
   "metadata": {},
   "source": [
    "## Change working directory\n",
    "\n",
    "Before starting we need to change to the correct directory (from where it is to its parent folder).\n",
    "\n",
    "We first access the current directory using os.getcwd()"
   ]
  },
  {
   "cell_type": "code",
   "execution_count": 2,
   "metadata": {},
   "outputs": [
    {
     "data": {
      "text/plain": [
       "'/workspace/HeritageHousing/notebooks'"
      ]
     },
     "execution_count": 2,
     "metadata": {},
     "output_type": "execute_result"
    }
   ],
   "source": [
    "import os\n",
    "current_dir = os.getcwd()\n",
    "current_dir"
   ]
  },
  {
   "cell_type": "markdown",
   "metadata": {},
   "source": [
    "We want to make the parent of the current directory the new current directory.\n",
    "\n",
    "* os.path.dirname() gets the parent directory\n",
    "* os.chir() defines the new current directory"
   ]
  },
  {
   "cell_type": "code",
   "execution_count": 3,
   "metadata": {},
   "outputs": [
    {
     "name": "stdout",
     "output_type": "stream",
     "text": [
      "You set a new current directory\n"
     ]
    }
   ],
   "source": [
    "os.chdir(os.path.dirname(current_dir))\n",
    "print(\"You set a new current directory\")"
   ]
  },
  {
   "cell_type": "markdown",
   "metadata": {},
   "source": [
    "Below will confirm the current directory"
   ]
  },
  {
   "cell_type": "code",
   "execution_count": 4,
   "metadata": {},
   "outputs": [
    {
     "data": {
      "text/plain": [
       "'/workspace/HeritageHousing'"
      ]
     },
     "execution_count": 4,
     "metadata": {},
     "output_type": "execute_result"
    }
   ],
   "source": [
    "current_dir = os.getcwd()\n",
    "current_dir"
   ]
  },
  {
   "cell_type": "markdown",
   "metadata": {},
   "source": [
    "## Libraries Import"
   ]
  },
  {
   "cell_type": "code",
   "execution_count": 5,
   "metadata": {},
   "outputs": [],
   "source": [
    "import pandas as pd\n",
    "import seaborn as sns\n",
    "import matplotlib.pyplot as plt\n",
    "import joblib\n",
    "from sklearn.preprocessing import LabelEncoder\n",
    "from sklearn.linear_model import LinearRegression\n",
    "from sklearn.ensemble import RandomForestRegressor\n",
    "from sklearn.model_selection import GridSearchCV\n",
    "from xgboost import XGBRegressor\n",
    "from sklearn.metrics import mean_squared_error, r2_score\n"
   ]
  },
  {
   "cell_type": "markdown",
   "metadata": {},
   "source": [
    "## Load the Datasets"
   ]
  },
  {
   "cell_type": "markdown",
   "metadata": {},
   "source": [
    "Loading the main dataset and the inherited houses data and checking to make sure they load correctly"
   ]
  },
  {
   "cell_type": "code",
   "execution_count": 6,
   "metadata": {},
   "outputs": [],
   "source": [
    "df = pd.read_csv('outputs/datasets/collection/HousePricing.csv')\n",
    "inherited_houses = pd.read_csv('outputs/datasets/collection/InheritedHouses.csv')"
   ]
  },
  {
   "cell_type": "code",
   "execution_count": 7,
   "metadata": {},
   "outputs": [
    {
     "name": "stdout",
     "output_type": "stream",
     "text": [
      "Main Housing Dataset:\n"
     ]
    },
    {
     "data": {
      "text/html": [
       "<div>\n",
       "<style scoped>\n",
       "    .dataframe tbody tr th:only-of-type {\n",
       "        vertical-align: middle;\n",
       "    }\n",
       "\n",
       "    .dataframe tbody tr th {\n",
       "        vertical-align: top;\n",
       "    }\n",
       "\n",
       "    .dataframe thead th {\n",
       "        text-align: right;\n",
       "    }\n",
       "</style>\n",
       "<table border=\"1\" class=\"dataframe\">\n",
       "  <thead>\n",
       "    <tr style=\"text-align: right;\">\n",
       "      <th></th>\n",
       "      <th>1stFlrSF</th>\n",
       "      <th>2ndFlrSF</th>\n",
       "      <th>BedroomAbvGr</th>\n",
       "      <th>BsmtExposure</th>\n",
       "      <th>BsmtFinSF1</th>\n",
       "      <th>BsmtFinType1</th>\n",
       "      <th>BsmtUnfSF</th>\n",
       "      <th>EnclosedPorch</th>\n",
       "      <th>GarageArea</th>\n",
       "      <th>GarageFinish</th>\n",
       "      <th>...</th>\n",
       "      <th>LotFrontage</th>\n",
       "      <th>MasVnrArea</th>\n",
       "      <th>OpenPorchSF</th>\n",
       "      <th>OverallCond</th>\n",
       "      <th>OverallQual</th>\n",
       "      <th>TotalBsmtSF</th>\n",
       "      <th>WoodDeckSF</th>\n",
       "      <th>YearBuilt</th>\n",
       "      <th>YearRemodAdd</th>\n",
       "      <th>SalePrice</th>\n",
       "    </tr>\n",
       "  </thead>\n",
       "  <tbody>\n",
       "    <tr>\n",
       "      <th>0</th>\n",
       "      <td>856</td>\n",
       "      <td>854.0</td>\n",
       "      <td>3.0</td>\n",
       "      <td>No</td>\n",
       "      <td>706</td>\n",
       "      <td>GLQ</td>\n",
       "      <td>150</td>\n",
       "      <td>0.0</td>\n",
       "      <td>548</td>\n",
       "      <td>RFn</td>\n",
       "      <td>...</td>\n",
       "      <td>65.0</td>\n",
       "      <td>196.0</td>\n",
       "      <td>61</td>\n",
       "      <td>5</td>\n",
       "      <td>7</td>\n",
       "      <td>856</td>\n",
       "      <td>0.0</td>\n",
       "      <td>2003</td>\n",
       "      <td>2003</td>\n",
       "      <td>208500</td>\n",
       "    </tr>\n",
       "    <tr>\n",
       "      <th>1</th>\n",
       "      <td>1262</td>\n",
       "      <td>0.0</td>\n",
       "      <td>3.0</td>\n",
       "      <td>Gd</td>\n",
       "      <td>978</td>\n",
       "      <td>ALQ</td>\n",
       "      <td>284</td>\n",
       "      <td>NaN</td>\n",
       "      <td>460</td>\n",
       "      <td>RFn</td>\n",
       "      <td>...</td>\n",
       "      <td>80.0</td>\n",
       "      <td>0.0</td>\n",
       "      <td>0</td>\n",
       "      <td>8</td>\n",
       "      <td>6</td>\n",
       "      <td>1262</td>\n",
       "      <td>NaN</td>\n",
       "      <td>1976</td>\n",
       "      <td>1976</td>\n",
       "      <td>181500</td>\n",
       "    </tr>\n",
       "    <tr>\n",
       "      <th>2</th>\n",
       "      <td>920</td>\n",
       "      <td>866.0</td>\n",
       "      <td>3.0</td>\n",
       "      <td>Mn</td>\n",
       "      <td>486</td>\n",
       "      <td>GLQ</td>\n",
       "      <td>434</td>\n",
       "      <td>0.0</td>\n",
       "      <td>608</td>\n",
       "      <td>RFn</td>\n",
       "      <td>...</td>\n",
       "      <td>68.0</td>\n",
       "      <td>162.0</td>\n",
       "      <td>42</td>\n",
       "      <td>5</td>\n",
       "      <td>7</td>\n",
       "      <td>920</td>\n",
       "      <td>NaN</td>\n",
       "      <td>2001</td>\n",
       "      <td>2002</td>\n",
       "      <td>223500</td>\n",
       "    </tr>\n",
       "    <tr>\n",
       "      <th>3</th>\n",
       "      <td>961</td>\n",
       "      <td>NaN</td>\n",
       "      <td>NaN</td>\n",
       "      <td>No</td>\n",
       "      <td>216</td>\n",
       "      <td>ALQ</td>\n",
       "      <td>540</td>\n",
       "      <td>NaN</td>\n",
       "      <td>642</td>\n",
       "      <td>Unf</td>\n",
       "      <td>...</td>\n",
       "      <td>60.0</td>\n",
       "      <td>0.0</td>\n",
       "      <td>35</td>\n",
       "      <td>5</td>\n",
       "      <td>7</td>\n",
       "      <td>756</td>\n",
       "      <td>NaN</td>\n",
       "      <td>1915</td>\n",
       "      <td>1970</td>\n",
       "      <td>140000</td>\n",
       "    </tr>\n",
       "    <tr>\n",
       "      <th>4</th>\n",
       "      <td>1145</td>\n",
       "      <td>NaN</td>\n",
       "      <td>4.0</td>\n",
       "      <td>Av</td>\n",
       "      <td>655</td>\n",
       "      <td>GLQ</td>\n",
       "      <td>490</td>\n",
       "      <td>0.0</td>\n",
       "      <td>836</td>\n",
       "      <td>RFn</td>\n",
       "      <td>...</td>\n",
       "      <td>84.0</td>\n",
       "      <td>350.0</td>\n",
       "      <td>84</td>\n",
       "      <td>5</td>\n",
       "      <td>8</td>\n",
       "      <td>1145</td>\n",
       "      <td>NaN</td>\n",
       "      <td>2000</td>\n",
       "      <td>2000</td>\n",
       "      <td>250000</td>\n",
       "    </tr>\n",
       "  </tbody>\n",
       "</table>\n",
       "<p>5 rows × 24 columns</p>\n",
       "</div>"
      ],
      "text/plain": [
       "   1stFlrSF  2ndFlrSF  BedroomAbvGr BsmtExposure  BsmtFinSF1 BsmtFinType1  \\\n",
       "0       856     854.0           3.0           No         706          GLQ   \n",
       "1      1262       0.0           3.0           Gd         978          ALQ   \n",
       "2       920     866.0           3.0           Mn         486          GLQ   \n",
       "3       961       NaN           NaN           No         216          ALQ   \n",
       "4      1145       NaN           4.0           Av         655          GLQ   \n",
       "\n",
       "   BsmtUnfSF  EnclosedPorch  GarageArea GarageFinish  ...  LotFrontage  \\\n",
       "0        150            0.0         548          RFn  ...         65.0   \n",
       "1        284            NaN         460          RFn  ...         80.0   \n",
       "2        434            0.0         608          RFn  ...         68.0   \n",
       "3        540            NaN         642          Unf  ...         60.0   \n",
       "4        490            0.0         836          RFn  ...         84.0   \n",
       "\n",
       "   MasVnrArea OpenPorchSF  OverallCond  OverallQual  TotalBsmtSF  WoodDeckSF  \\\n",
       "0       196.0          61            5            7          856         0.0   \n",
       "1         0.0           0            8            6         1262         NaN   \n",
       "2       162.0          42            5            7          920         NaN   \n",
       "3         0.0          35            5            7          756         NaN   \n",
       "4       350.0          84            5            8         1145         NaN   \n",
       "\n",
       "   YearBuilt  YearRemodAdd  SalePrice  \n",
       "0       2003          2003     208500  \n",
       "1       1976          1976     181500  \n",
       "2       2001          2002     223500  \n",
       "3       1915          1970     140000  \n",
       "4       2000          2000     250000  \n",
       "\n",
       "[5 rows x 24 columns]"
      ]
     },
     "execution_count": 7,
     "metadata": {},
     "output_type": "execute_result"
    }
   ],
   "source": [
    "print(\"Main Housing Dataset:\")\n",
    "df.head()"
   ]
  },
  {
   "cell_type": "code",
   "execution_count": 8,
   "metadata": {},
   "outputs": [
    {
     "name": "stdout",
     "output_type": "stream",
     "text": [
      "\n",
      "Inherited Houses Dataset:\n"
     ]
    },
    {
     "data": {
      "text/html": [
       "<div>\n",
       "<style scoped>\n",
       "    .dataframe tbody tr th:only-of-type {\n",
       "        vertical-align: middle;\n",
       "    }\n",
       "\n",
       "    .dataframe tbody tr th {\n",
       "        vertical-align: top;\n",
       "    }\n",
       "\n",
       "    .dataframe thead th {\n",
       "        text-align: right;\n",
       "    }\n",
       "</style>\n",
       "<table border=\"1\" class=\"dataframe\">\n",
       "  <thead>\n",
       "    <tr style=\"text-align: right;\">\n",
       "      <th></th>\n",
       "      <th>1stFlrSF</th>\n",
       "      <th>2ndFlrSF</th>\n",
       "      <th>BedroomAbvGr</th>\n",
       "      <th>BsmtExposure</th>\n",
       "      <th>BsmtFinSF1</th>\n",
       "      <th>BsmtFinType1</th>\n",
       "      <th>BsmtUnfSF</th>\n",
       "      <th>EnclosedPorch</th>\n",
       "      <th>GarageArea</th>\n",
       "      <th>GarageFinish</th>\n",
       "      <th>...</th>\n",
       "      <th>LotArea</th>\n",
       "      <th>LotFrontage</th>\n",
       "      <th>MasVnrArea</th>\n",
       "      <th>OpenPorchSF</th>\n",
       "      <th>OverallCond</th>\n",
       "      <th>OverallQual</th>\n",
       "      <th>TotalBsmtSF</th>\n",
       "      <th>WoodDeckSF</th>\n",
       "      <th>YearBuilt</th>\n",
       "      <th>YearRemodAdd</th>\n",
       "    </tr>\n",
       "  </thead>\n",
       "  <tbody>\n",
       "    <tr>\n",
       "      <th>0</th>\n",
       "      <td>896</td>\n",
       "      <td>0</td>\n",
       "      <td>2</td>\n",
       "      <td>No</td>\n",
       "      <td>468.0</td>\n",
       "      <td>Rec</td>\n",
       "      <td>270.0</td>\n",
       "      <td>0</td>\n",
       "      <td>730.0</td>\n",
       "      <td>Unf</td>\n",
       "      <td>...</td>\n",
       "      <td>11622</td>\n",
       "      <td>80.0</td>\n",
       "      <td>0.0</td>\n",
       "      <td>0</td>\n",
       "      <td>6</td>\n",
       "      <td>5</td>\n",
       "      <td>882.0</td>\n",
       "      <td>140</td>\n",
       "      <td>1961</td>\n",
       "      <td>1961</td>\n",
       "    </tr>\n",
       "    <tr>\n",
       "      <th>1</th>\n",
       "      <td>1329</td>\n",
       "      <td>0</td>\n",
       "      <td>3</td>\n",
       "      <td>No</td>\n",
       "      <td>923.0</td>\n",
       "      <td>ALQ</td>\n",
       "      <td>406.0</td>\n",
       "      <td>0</td>\n",
       "      <td>312.0</td>\n",
       "      <td>Unf</td>\n",
       "      <td>...</td>\n",
       "      <td>14267</td>\n",
       "      <td>81.0</td>\n",
       "      <td>108.0</td>\n",
       "      <td>36</td>\n",
       "      <td>6</td>\n",
       "      <td>6</td>\n",
       "      <td>1329.0</td>\n",
       "      <td>393</td>\n",
       "      <td>1958</td>\n",
       "      <td>1958</td>\n",
       "    </tr>\n",
       "    <tr>\n",
       "      <th>2</th>\n",
       "      <td>928</td>\n",
       "      <td>701</td>\n",
       "      <td>3</td>\n",
       "      <td>No</td>\n",
       "      <td>791.0</td>\n",
       "      <td>GLQ</td>\n",
       "      <td>137.0</td>\n",
       "      <td>0</td>\n",
       "      <td>482.0</td>\n",
       "      <td>Fin</td>\n",
       "      <td>...</td>\n",
       "      <td>13830</td>\n",
       "      <td>74.0</td>\n",
       "      <td>0.0</td>\n",
       "      <td>34</td>\n",
       "      <td>5</td>\n",
       "      <td>5</td>\n",
       "      <td>928.0</td>\n",
       "      <td>212</td>\n",
       "      <td>1997</td>\n",
       "      <td>1998</td>\n",
       "    </tr>\n",
       "    <tr>\n",
       "      <th>3</th>\n",
       "      <td>926</td>\n",
       "      <td>678</td>\n",
       "      <td>3</td>\n",
       "      <td>No</td>\n",
       "      <td>602.0</td>\n",
       "      <td>GLQ</td>\n",
       "      <td>324.0</td>\n",
       "      <td>0</td>\n",
       "      <td>470.0</td>\n",
       "      <td>Fin</td>\n",
       "      <td>...</td>\n",
       "      <td>9978</td>\n",
       "      <td>78.0</td>\n",
       "      <td>20.0</td>\n",
       "      <td>36</td>\n",
       "      <td>6</td>\n",
       "      <td>6</td>\n",
       "      <td>926.0</td>\n",
       "      <td>360</td>\n",
       "      <td>1998</td>\n",
       "      <td>1998</td>\n",
       "    </tr>\n",
       "  </tbody>\n",
       "</table>\n",
       "<p>4 rows × 23 columns</p>\n",
       "</div>"
      ],
      "text/plain": [
       "   1stFlrSF  2ndFlrSF  BedroomAbvGr BsmtExposure  BsmtFinSF1 BsmtFinType1  \\\n",
       "0       896         0             2           No       468.0          Rec   \n",
       "1      1329         0             3           No       923.0          ALQ   \n",
       "2       928       701             3           No       791.0          GLQ   \n",
       "3       926       678             3           No       602.0          GLQ   \n",
       "\n",
       "   BsmtUnfSF  EnclosedPorch  GarageArea GarageFinish  ...  LotArea  \\\n",
       "0      270.0              0       730.0          Unf  ...    11622   \n",
       "1      406.0              0       312.0          Unf  ...    14267   \n",
       "2      137.0              0       482.0          Fin  ...    13830   \n",
       "3      324.0              0       470.0          Fin  ...     9978   \n",
       "\n",
       "   LotFrontage MasVnrArea  OpenPorchSF  OverallCond  OverallQual  TotalBsmtSF  \\\n",
       "0         80.0        0.0            0            6            5        882.0   \n",
       "1         81.0      108.0           36            6            6       1329.0   \n",
       "2         74.0        0.0           34            5            5        928.0   \n",
       "3         78.0       20.0           36            6            6        926.0   \n",
       "\n",
       "   WoodDeckSF  YearBuilt  YearRemodAdd  \n",
       "0         140       1961          1961  \n",
       "1         393       1958          1958  \n",
       "2         212       1997          1998  \n",
       "3         360       1998          1998  \n",
       "\n",
       "[4 rows x 23 columns]"
      ]
     },
     "execution_count": 8,
     "metadata": {},
     "output_type": "execute_result"
    }
   ],
   "source": [
    "print(\"\\nInherited Houses Dataset:\")\n",
    "inherited_houses.head()"
   ]
  },
  {
   "cell_type": "markdown",
   "metadata": {},
   "source": [
    "## Data Cleaning"
   ]
  },
  {
   "cell_type": "markdown",
   "metadata": {},
   "source": [
    "In this step, we will handle missing values and ensure the data is in good shape for model training. We'll apply the same cleaning steps to both the main dataset and the inherited house dataset."
   ]
  },
  {
   "cell_type": "markdown",
   "metadata": {},
   "source": [
    "**Check for Missing Values**\n",
    "\n",
    "First, let's check for missing values in both datasets."
   ]
  },
  {
   "cell_type": "code",
   "execution_count": 9,
   "metadata": {},
   "outputs": [
    {
     "name": "stdout",
     "output_type": "stream",
     "text": [
      "Missing values in the main housing dataset:\n",
      "EnclosedPorch    1324\n",
      "WoodDeckSF       1305\n",
      "LotFrontage       259\n",
      "GarageFinish      235\n",
      "BsmtFinType1      145\n",
      "BedroomAbvGr       99\n",
      "2ndFlrSF           86\n",
      "GarageYrBlt        81\n",
      "BsmtExposure       38\n",
      "MasVnrArea          8\n",
      "1stFlrSF            0\n",
      "BsmtFinSF1          0\n",
      "BsmtUnfSF           0\n",
      "GrLivArea           0\n",
      "LotArea             0\n",
      "GarageArea          0\n",
      "KitchenQual         0\n",
      "OpenPorchSF         0\n",
      "OverallQual         0\n",
      "OverallCond         0\n",
      "TotalBsmtSF         0\n",
      "YearBuilt           0\n",
      "YearRemodAdd        0\n",
      "SalePrice           0\n",
      "dtype: int64\n"
     ]
    }
   ],
   "source": [
    "print(\"Missing values in the main housing dataset:\")\n",
    "print(df.isnull().sum().sort_values(ascending=False))"
   ]
  },
  {
   "cell_type": "code",
   "execution_count": 10,
   "metadata": {},
   "outputs": [
    {
     "name": "stdout",
     "output_type": "stream",
     "text": [
      "\n",
      "Missing values in the inherited houses dataset:\n",
      "1stFlrSF         0\n",
      "2ndFlrSF         0\n",
      "BedroomAbvGr     0\n",
      "BsmtExposure     0\n",
      "BsmtFinSF1       0\n",
      "BsmtFinType1     0\n",
      "BsmtUnfSF        0\n",
      "EnclosedPorch    0\n",
      "GarageArea       0\n",
      "GarageFinish     0\n",
      "GarageYrBlt      0\n",
      "GrLivArea        0\n",
      "KitchenQual      0\n",
      "LotArea          0\n",
      "LotFrontage      0\n",
      "MasVnrArea       0\n",
      "OpenPorchSF      0\n",
      "OverallCond      0\n",
      "OverallQual      0\n",
      "TotalBsmtSF      0\n",
      "WoodDeckSF       0\n",
      "YearBuilt        0\n",
      "YearRemodAdd     0\n",
      "dtype: int64\n"
     ]
    }
   ],
   "source": [
    "print(\"\\nMissing values in the inherited houses dataset:\")\n",
    "print(inherited_houses.isnull().sum().sort_values(ascending=False))"
   ]
  },
  {
   "cell_type": "markdown",
   "metadata": {},
   "source": [
    "**Handling Missing Values**\n",
    "\n",
    "Now that we have identified which columns have missing values, we will handle them based on the nature of each feature. We'll apply the same strategy we used earlier for the main dataset and inherited houses."
   ]
  },
  {
   "cell_type": "markdown",
   "metadata": {},
   "source": [
    "* **Handling Missing Values in Main Housing Data**"
   ]
  },
  {
   "cell_type": "code",
   "execution_count": 11,
   "metadata": {},
   "outputs": [
    {
     "name": "stderr",
     "output_type": "stream",
     "text": [
      "/tmp/ipykernel_4451/3255318329.py:2: FutureWarning: A value is trying to be set on a copy of a DataFrame or Series through chained assignment using an inplace method.\n",
      "The behavior will change in pandas 3.0. This inplace method will never work because the intermediate object on which we are setting values always behaves as a copy.\n",
      "\n",
      "For example, when doing 'df[col].method(value, inplace=True)', try using 'df.method({col: value}, inplace=True)' or df[col] = df[col].method(value) instead, to perform the operation inplace on the original object.\n",
      "\n",
      "\n",
      "  df['EnclosedPorch'].fillna(0, inplace=True)\n",
      "/tmp/ipykernel_4451/3255318329.py:3: FutureWarning: A value is trying to be set on a copy of a DataFrame or Series through chained assignment using an inplace method.\n",
      "The behavior will change in pandas 3.0. This inplace method will never work because the intermediate object on which we are setting values always behaves as a copy.\n",
      "\n",
      "For example, when doing 'df[col].method(value, inplace=True)', try using 'df.method({col: value}, inplace=True)' or df[col] = df[col].method(value) instead, to perform the operation inplace on the original object.\n",
      "\n",
      "\n",
      "  df['WoodDeckSF'].fillna(0, inplace=True)\n",
      "/tmp/ipykernel_4451/3255318329.py:6: FutureWarning: A value is trying to be set on a copy of a DataFrame or Series through chained assignment using an inplace method.\n",
      "The behavior will change in pandas 3.0. This inplace method will never work because the intermediate object on which we are setting values always behaves as a copy.\n",
      "\n",
      "For example, when doing 'df[col].method(value, inplace=True)', try using 'df.method({col: value}, inplace=True)' or df[col] = df[col].method(value) instead, to perform the operation inplace on the original object.\n",
      "\n",
      "\n",
      "  df['LotFrontage'].fillna(df['LotFrontage'].median(), inplace=True)\n",
      "/tmp/ipykernel_4451/3255318329.py:9: FutureWarning: A value is trying to be set on a copy of a DataFrame or Series through chained assignment using an inplace method.\n",
      "The behavior will change in pandas 3.0. This inplace method will never work because the intermediate object on which we are setting values always behaves as a copy.\n",
      "\n",
      "For example, when doing 'df[col].method(value, inplace=True)', try using 'df.method({col: value}, inplace=True)' or df[col] = df[col].method(value) instead, to perform the operation inplace on the original object.\n",
      "\n",
      "\n",
      "  df['GarageFinish'].fillna('No Garage', inplace=True)\n",
      "/tmp/ipykernel_4451/3255318329.py:10: FutureWarning: A value is trying to be set on a copy of a DataFrame or Series through chained assignment using an inplace method.\n",
      "The behavior will change in pandas 3.0. This inplace method will never work because the intermediate object on which we are setting values always behaves as a copy.\n",
      "\n",
      "For example, when doing 'df[col].method(value, inplace=True)', try using 'df.method({col: value}, inplace=True)' or df[col] = df[col].method(value) instead, to perform the operation inplace on the original object.\n",
      "\n",
      "\n",
      "  df['GarageYrBlt'].fillna(0, inplace=True)\n",
      "/tmp/ipykernel_4451/3255318329.py:13: FutureWarning: A value is trying to be set on a copy of a DataFrame or Series through chained assignment using an inplace method.\n",
      "The behavior will change in pandas 3.0. This inplace method will never work because the intermediate object on which we are setting values always behaves as a copy.\n",
      "\n",
      "For example, when doing 'df[col].method(value, inplace=True)', try using 'df.method({col: value}, inplace=True)' or df[col] = df[col].method(value) instead, to perform the operation inplace on the original object.\n",
      "\n",
      "\n",
      "  df['BsmtFinType1'].fillna('No Basement', inplace=True)\n",
      "/tmp/ipykernel_4451/3255318329.py:14: FutureWarning: A value is trying to be set on a copy of a DataFrame or Series through chained assignment using an inplace method.\n",
      "The behavior will change in pandas 3.0. This inplace method will never work because the intermediate object on which we are setting values always behaves as a copy.\n",
      "\n",
      "For example, when doing 'df[col].method(value, inplace=True)', try using 'df.method({col: value}, inplace=True)' or df[col] = df[col].method(value) instead, to perform the operation inplace on the original object.\n",
      "\n",
      "\n",
      "  df['BsmtExposure'].fillna('No Exposure', inplace=True)\n",
      "/tmp/ipykernel_4451/3255318329.py:17: FutureWarning: A value is trying to be set on a copy of a DataFrame or Series through chained assignment using an inplace method.\n",
      "The behavior will change in pandas 3.0. This inplace method will never work because the intermediate object on which we are setting values always behaves as a copy.\n",
      "\n",
      "For example, when doing 'df[col].method(value, inplace=True)', try using 'df.method({col: value}, inplace=True)' or df[col] = df[col].method(value) instead, to perform the operation inplace on the original object.\n",
      "\n",
      "\n",
      "  df['BedroomAbvGr'].fillna(df['BedroomAbvGr'].mode()[0], inplace=True)\n",
      "/tmp/ipykernel_4451/3255318329.py:20: FutureWarning: A value is trying to be set on a copy of a DataFrame or Series through chained assignment using an inplace method.\n",
      "The behavior will change in pandas 3.0. This inplace method will never work because the intermediate object on which we are setting values always behaves as a copy.\n",
      "\n",
      "For example, when doing 'df[col].method(value, inplace=True)', try using 'df.method({col: value}, inplace=True)' or df[col] = df[col].method(value) instead, to perform the operation inplace on the original object.\n",
      "\n",
      "\n",
      "  df['2ndFlrSF'].fillna(0, inplace=True)\n",
      "/tmp/ipykernel_4451/3255318329.py:23: FutureWarning: A value is trying to be set on a copy of a DataFrame or Series through chained assignment using an inplace method.\n",
      "The behavior will change in pandas 3.0. This inplace method will never work because the intermediate object on which we are setting values always behaves as a copy.\n",
      "\n",
      "For example, when doing 'df[col].method(value, inplace=True)', try using 'df.method({col: value}, inplace=True)' or df[col] = df[col].method(value) instead, to perform the operation inplace on the original object.\n",
      "\n",
      "\n",
      "  df['MasVnrArea'].fillna(0, inplace=True)\n"
     ]
    }
   ],
   "source": [
    "# For 'EnclosedPorch' and 'WoodDeckSF', assume missing means the absence of those features. Fill with 0.\n",
    "df['EnclosedPorch'].fillna(0, inplace=True)\n",
    "df['WoodDeckSF'].fillna(0, inplace=True)\n",
    "\n",
    "# For 'LotFrontage', fill with the median value as it’s a critical numeric feature.\n",
    "df['LotFrontage'].fillna(df['LotFrontage'].median(), inplace=True)\n",
    "\n",
    "# For 'GarageFinish' and 'GarageYrBlt', assume missing means no garage. Fill with 'No Garage' and 0 respectively.\n",
    "df['GarageFinish'].fillna('No Garage', inplace=True)\n",
    "df['GarageYrBlt'].fillna(0, inplace=True)\n",
    "\n",
    "# For 'BsmtFinType1' and 'BsmtExposure', assume missing means no basement. Fill with 'No Basement' and 'No Exposure'.\n",
    "df['BsmtFinType1'].fillna('No Basement', inplace=True)\n",
    "df['BsmtExposure'].fillna('No Exposure', inplace=True)\n",
    "\n",
    "# For 'BedroomAbvGr', fill with the mode (most common number of bedrooms).\n",
    "df['BedroomAbvGr'].fillna(df['BedroomAbvGr'].mode()[0], inplace=True)\n",
    "\n",
    "# For '2ndFlrSF', assume missing means no second floor. Fill with 0.\n",
    "df['2ndFlrSF'].fillna(0, inplace=True)\n",
    "\n",
    "# For 'MasVnrArea', assume missing means no masonry veneer. Fill with 0.\n",
    "df['MasVnrArea'].fillna(0, inplace=True)\n"
   ]
  },
  {
   "cell_type": "markdown",
   "metadata": {},
   "source": [
    "* **Handling Missing Values in the Inherited Houses Dataset**\n",
    "\n",
    "We will use the same strategy for the inherited house data"
   ]
  },
  {
   "cell_type": "code",
   "execution_count": 12,
   "metadata": {},
   "outputs": [
    {
     "name": "stderr",
     "output_type": "stream",
     "text": [
      "/tmp/ipykernel_4451/3804297574.py:2: FutureWarning: A value is trying to be set on a copy of a DataFrame or Series through chained assignment using an inplace method.\n",
      "The behavior will change in pandas 3.0. This inplace method will never work because the intermediate object on which we are setting values always behaves as a copy.\n",
      "\n",
      "For example, when doing 'df[col].method(value, inplace=True)', try using 'df.method({col: value}, inplace=True)' or df[col] = df[col].method(value) instead, to perform the operation inplace on the original object.\n",
      "\n",
      "\n",
      "  inherited_houses['EnclosedPorch'].fillna(0, inplace=True)\n",
      "/tmp/ipykernel_4451/3804297574.py:3: FutureWarning: A value is trying to be set on a copy of a DataFrame or Series through chained assignment using an inplace method.\n",
      "The behavior will change in pandas 3.0. This inplace method will never work because the intermediate object on which we are setting values always behaves as a copy.\n",
      "\n",
      "For example, when doing 'df[col].method(value, inplace=True)', try using 'df.method({col: value}, inplace=True)' or df[col] = df[col].method(value) instead, to perform the operation inplace on the original object.\n",
      "\n",
      "\n",
      "  inherited_houses['WoodDeckSF'].fillna(0, inplace=True)\n",
      "/tmp/ipykernel_4451/3804297574.py:4: FutureWarning: A value is trying to be set on a copy of a DataFrame or Series through chained assignment using an inplace method.\n",
      "The behavior will change in pandas 3.0. This inplace method will never work because the intermediate object on which we are setting values always behaves as a copy.\n",
      "\n",
      "For example, when doing 'df[col].method(value, inplace=True)', try using 'df.method({col: value}, inplace=True)' or df[col] = df[col].method(value) instead, to perform the operation inplace on the original object.\n",
      "\n",
      "\n",
      "  inherited_houses['LotFrontage'].fillna(inherited_houses['LotFrontage'].median(), inplace=True)\n",
      "/tmp/ipykernel_4451/3804297574.py:5: FutureWarning: A value is trying to be set on a copy of a DataFrame or Series through chained assignment using an inplace method.\n",
      "The behavior will change in pandas 3.0. This inplace method will never work because the intermediate object on which we are setting values always behaves as a copy.\n",
      "\n",
      "For example, when doing 'df[col].method(value, inplace=True)', try using 'df.method({col: value}, inplace=True)' or df[col] = df[col].method(value) instead, to perform the operation inplace on the original object.\n",
      "\n",
      "\n",
      "  inherited_houses['GarageFinish'].fillna('No Garage', inplace=True)\n",
      "/tmp/ipykernel_4451/3804297574.py:6: FutureWarning: A value is trying to be set on a copy of a DataFrame or Series through chained assignment using an inplace method.\n",
      "The behavior will change in pandas 3.0. This inplace method will never work because the intermediate object on which we are setting values always behaves as a copy.\n",
      "\n",
      "For example, when doing 'df[col].method(value, inplace=True)', try using 'df.method({col: value}, inplace=True)' or df[col] = df[col].method(value) instead, to perform the operation inplace on the original object.\n",
      "\n",
      "\n",
      "  inherited_houses['GarageYrBlt'].fillna(0, inplace=True)\n",
      "/tmp/ipykernel_4451/3804297574.py:7: FutureWarning: A value is trying to be set on a copy of a DataFrame or Series through chained assignment using an inplace method.\n",
      "The behavior will change in pandas 3.0. This inplace method will never work because the intermediate object on which we are setting values always behaves as a copy.\n",
      "\n",
      "For example, when doing 'df[col].method(value, inplace=True)', try using 'df.method({col: value}, inplace=True)' or df[col] = df[col].method(value) instead, to perform the operation inplace on the original object.\n",
      "\n",
      "\n",
      "  inherited_houses['BsmtFinType1'].fillna('No Basement', inplace=True)\n",
      "/tmp/ipykernel_4451/3804297574.py:8: FutureWarning: A value is trying to be set on a copy of a DataFrame or Series through chained assignment using an inplace method.\n",
      "The behavior will change in pandas 3.0. This inplace method will never work because the intermediate object on which we are setting values always behaves as a copy.\n",
      "\n",
      "For example, when doing 'df[col].method(value, inplace=True)', try using 'df.method({col: value}, inplace=True)' or df[col] = df[col].method(value) instead, to perform the operation inplace on the original object.\n",
      "\n",
      "\n",
      "  inherited_houses['BsmtExposure'].fillna('No Exposure', inplace=True)\n",
      "/tmp/ipykernel_4451/3804297574.py:9: FutureWarning: A value is trying to be set on a copy of a DataFrame or Series through chained assignment using an inplace method.\n",
      "The behavior will change in pandas 3.0. This inplace method will never work because the intermediate object on which we are setting values always behaves as a copy.\n",
      "\n",
      "For example, when doing 'df[col].method(value, inplace=True)', try using 'df.method({col: value}, inplace=True)' or df[col] = df[col].method(value) instead, to perform the operation inplace on the original object.\n",
      "\n",
      "\n",
      "  inherited_houses['BedroomAbvGr'].fillna(inherited_houses['BedroomAbvGr'].mode()[0], inplace=True)\n",
      "/tmp/ipykernel_4451/3804297574.py:10: FutureWarning: A value is trying to be set on a copy of a DataFrame or Series through chained assignment using an inplace method.\n",
      "The behavior will change in pandas 3.0. This inplace method will never work because the intermediate object on which we are setting values always behaves as a copy.\n",
      "\n",
      "For example, when doing 'df[col].method(value, inplace=True)', try using 'df.method({col: value}, inplace=True)' or df[col] = df[col].method(value) instead, to perform the operation inplace on the original object.\n",
      "\n",
      "\n",
      "  inherited_houses['2ndFlrSF'].fillna(0, inplace=True)\n",
      "/tmp/ipykernel_4451/3804297574.py:11: FutureWarning: A value is trying to be set on a copy of a DataFrame or Series through chained assignment using an inplace method.\n",
      "The behavior will change in pandas 3.0. This inplace method will never work because the intermediate object on which we are setting values always behaves as a copy.\n",
      "\n",
      "For example, when doing 'df[col].method(value, inplace=True)', try using 'df.method({col: value}, inplace=True)' or df[col] = df[col].method(value) instead, to perform the operation inplace on the original object.\n",
      "\n",
      "\n",
      "  inherited_houses['MasVnrArea'].fillna(0, inplace=True)\n"
     ]
    }
   ],
   "source": [
    "# Fill missing values for inherited houses in the same way\n",
    "inherited_houses['EnclosedPorch'].fillna(0, inplace=True)\n",
    "inherited_houses['WoodDeckSF'].fillna(0, inplace=True)\n",
    "inherited_houses['LotFrontage'].fillna(inherited_houses['LotFrontage'].median(), inplace=True)\n",
    "inherited_houses['GarageFinish'].fillna('No Garage', inplace=True)\n",
    "inherited_houses['GarageYrBlt'].fillna(0, inplace=True)\n",
    "inherited_houses['BsmtFinType1'].fillna('No Basement', inplace=True)\n",
    "inherited_houses['BsmtExposure'].fillna('No Exposure', inplace=True)\n",
    "inherited_houses['BedroomAbvGr'].fillna(inherited_houses['BedroomAbvGr'].mode()[0], inplace=True)\n",
    "inherited_houses['2ndFlrSF'].fillna(0, inplace=True)\n",
    "inherited_houses['MasVnrArea'].fillna(0, inplace=True)\n"
   ]
  },
  {
   "cell_type": "markdown",
   "metadata": {},
   "source": [
    "* **Check for Missing Values Again**\n",
    "\n",
    "After handling the missing values, it's a good practice to check again to make sure there are no remaining missing values."
   ]
  },
  {
   "cell_type": "code",
   "execution_count": 13,
   "metadata": {},
   "outputs": [
    {
     "name": "stdout",
     "output_type": "stream",
     "text": [
      "Missing values in the main housing dataset:\n",
      "1stFlrSF         0\n",
      "2ndFlrSF         0\n",
      "BedroomAbvGr     0\n",
      "BsmtExposure     0\n",
      "BsmtFinSF1       0\n",
      "BsmtFinType1     0\n",
      "BsmtUnfSF        0\n",
      "EnclosedPorch    0\n",
      "GarageArea       0\n",
      "GarageFinish     0\n",
      "GarageYrBlt      0\n",
      "GrLivArea        0\n",
      "KitchenQual      0\n",
      "LotArea          0\n",
      "LotFrontage      0\n",
      "MasVnrArea       0\n",
      "OpenPorchSF      0\n",
      "OverallCond      0\n",
      "OverallQual      0\n",
      "TotalBsmtSF      0\n",
      "WoodDeckSF       0\n",
      "YearBuilt        0\n",
      "YearRemodAdd     0\n",
      "SalePrice        0\n",
      "dtype: int64\n"
     ]
    }
   ],
   "source": [
    "print(\"Missing values in the main housing dataset:\")\n",
    "print(df.isnull().sum().sort_values(ascending=False))"
   ]
  },
  {
   "cell_type": "code",
   "execution_count": 14,
   "metadata": {},
   "outputs": [
    {
     "name": "stdout",
     "output_type": "stream",
     "text": [
      "\n",
      "Missing values in the inherited houses dataset:\n",
      "1stFlrSF         0\n",
      "2ndFlrSF         0\n",
      "BedroomAbvGr     0\n",
      "BsmtExposure     0\n",
      "BsmtFinSF1       0\n",
      "BsmtFinType1     0\n",
      "BsmtUnfSF        0\n",
      "EnclosedPorch    0\n",
      "GarageArea       0\n",
      "GarageFinish     0\n",
      "GarageYrBlt      0\n",
      "GrLivArea        0\n",
      "KitchenQual      0\n",
      "LotArea          0\n",
      "LotFrontage      0\n",
      "MasVnrArea       0\n",
      "OpenPorchSF      0\n",
      "OverallCond      0\n",
      "OverallQual      0\n",
      "TotalBsmtSF      0\n",
      "WoodDeckSF       0\n",
      "YearBuilt        0\n",
      "YearRemodAdd     0\n",
      "dtype: int64\n"
     ]
    }
   ],
   "source": [
    "print(\"\\nMissing values in the inherited houses dataset:\")\n",
    "print(inherited_houses.isnull().sum().sort_values(ascending=False))"
   ]
  },
  {
   "cell_type": "markdown",
   "metadata": {},
   "source": [
    "## Feature Engineering\n",
    "\n",
    "In this step, we'll create new features and transform categorical data into numerical data, preparing the dataset for modeling."
   ]
  },
  {
   "cell_type": "markdown",
   "metadata": {},
   "source": [
    "* **Creating New Features**\n",
    "\n",
    "Since we’ve already discussed that total square footage (TotalSF) is an important attribute, we’ll create that feature by summing up the square footage from the first floor, second floor, and basement."
   ]
  },
  {
   "cell_type": "code",
   "execution_count": 15,
   "metadata": {},
   "outputs": [],
   "source": [
    "df['TotalSF'] = df['1stFlrSF'] + df['2ndFlrSF'] + df['TotalBsmtSF']\n",
    "inherited_houses['TotalSF'] = inherited_houses['1stFlrSF'] + inherited_houses['2ndFlrSF'] + inherited_houses['TotalBsmtSF']"
   ]
  },
  {
   "cell_type": "code",
   "execution_count": 16,
   "metadata": {},
   "outputs": [
    {
     "data": {
      "text/html": [
       "<div>\n",
       "<style scoped>\n",
       "    .dataframe tbody tr th:only-of-type {\n",
       "        vertical-align: middle;\n",
       "    }\n",
       "\n",
       "    .dataframe tbody tr th {\n",
       "        vertical-align: top;\n",
       "    }\n",
       "\n",
       "    .dataframe thead th {\n",
       "        text-align: right;\n",
       "    }\n",
       "</style>\n",
       "<table border=\"1\" class=\"dataframe\">\n",
       "  <thead>\n",
       "    <tr style=\"text-align: right;\">\n",
       "      <th></th>\n",
       "      <th>TotalSF</th>\n",
       "      <th>SalePrice</th>\n",
       "    </tr>\n",
       "  </thead>\n",
       "  <tbody>\n",
       "    <tr>\n",
       "      <th>0</th>\n",
       "      <td>2566.0</td>\n",
       "      <td>208500</td>\n",
       "    </tr>\n",
       "    <tr>\n",
       "      <th>1</th>\n",
       "      <td>2524.0</td>\n",
       "      <td>181500</td>\n",
       "    </tr>\n",
       "    <tr>\n",
       "      <th>2</th>\n",
       "      <td>2706.0</td>\n",
       "      <td>223500</td>\n",
       "    </tr>\n",
       "    <tr>\n",
       "      <th>3</th>\n",
       "      <td>1717.0</td>\n",
       "      <td>140000</td>\n",
       "    </tr>\n",
       "    <tr>\n",
       "      <th>4</th>\n",
       "      <td>2290.0</td>\n",
       "      <td>250000</td>\n",
       "    </tr>\n",
       "  </tbody>\n",
       "</table>\n",
       "</div>"
      ],
      "text/plain": [
       "   TotalSF  SalePrice\n",
       "0   2566.0     208500\n",
       "1   2524.0     181500\n",
       "2   2706.0     223500\n",
       "3   1717.0     140000\n",
       "4   2290.0     250000"
      ]
     },
     "execution_count": 16,
     "metadata": {},
     "output_type": "execute_result"
    }
   ],
   "source": [
    "df[['TotalSF', 'SalePrice']].head()"
   ]
  },
  {
   "cell_type": "code",
   "execution_count": 17,
   "metadata": {},
   "outputs": [
    {
     "data": {
      "text/html": [
       "<div>\n",
       "<style scoped>\n",
       "    .dataframe tbody tr th:only-of-type {\n",
       "        vertical-align: middle;\n",
       "    }\n",
       "\n",
       "    .dataframe tbody tr th {\n",
       "        vertical-align: top;\n",
       "    }\n",
       "\n",
       "    .dataframe thead th {\n",
       "        text-align: right;\n",
       "    }\n",
       "</style>\n",
       "<table border=\"1\" class=\"dataframe\">\n",
       "  <thead>\n",
       "    <tr style=\"text-align: right;\">\n",
       "      <th></th>\n",
       "      <th>TotalSF</th>\n",
       "    </tr>\n",
       "  </thead>\n",
       "  <tbody>\n",
       "    <tr>\n",
       "      <th>0</th>\n",
       "      <td>1778.0</td>\n",
       "    </tr>\n",
       "    <tr>\n",
       "      <th>1</th>\n",
       "      <td>2658.0</td>\n",
       "    </tr>\n",
       "    <tr>\n",
       "      <th>2</th>\n",
       "      <td>2557.0</td>\n",
       "    </tr>\n",
       "    <tr>\n",
       "      <th>3</th>\n",
       "      <td>2530.0</td>\n",
       "    </tr>\n",
       "  </tbody>\n",
       "</table>\n",
       "</div>"
      ],
      "text/plain": [
       "   TotalSF\n",
       "0   1778.0\n",
       "1   2658.0\n",
       "2   2557.0\n",
       "3   2530.0"
      ]
     },
     "execution_count": 17,
     "metadata": {},
     "output_type": "execute_result"
    }
   ],
   "source": [
    "inherited_houses[['TotalSF']].head()"
   ]
  },
  {
   "cell_type": "markdown",
   "metadata": {},
   "source": [
    "* **Encoding Categorical Variables**\n",
    "\n",
    "We need to convert categorical variables into numeric ones for the machine learning algorithms to process them. Since the categories (like quality ratings) have an inherent order, we’ll use label encoding for categorical features such as BsmtExposure, BsmtFinType1, GarageFinish, and KitchenQual."
   ]
  },
  {
   "cell_type": "markdown",
   "metadata": {},
   "source": [
    "Define mappings for each categorical column"
   ]
  },
  {
   "cell_type": "code",
   "execution_count": 18,
   "metadata": {},
   "outputs": [],
   "source": [
    "bsmt_exposure_mapping = {'No': 0, 'Mn': 1, 'Av': 2, 'Gd': 3, 'No Exposure': 4}\n",
    "bsmt_fin_type_mapping = {'No Basement': 0, 'Unf': 1, 'LwQ': 2, 'Rec': 3, 'BLQ': 4, 'ALQ': 5, 'GLQ': 6}\n",
    "garage_finish_mapping = {'No Garage': 0, 'Unf': 1, 'RFn': 2, 'Fin': 3}\n",
    "kitchen_qual_mapping = {'Fa': 0, 'TA': 1, 'Gd': 2, 'Ex': 3}"
   ]
  },
  {
   "cell_type": "markdown",
   "metadata": {},
   "source": [
    "Apply the mappings to the main dataset"
   ]
  },
  {
   "cell_type": "code",
   "execution_count": 19,
   "metadata": {},
   "outputs": [],
   "source": [
    "df['BsmtExposure'] = df['BsmtExposure'].map(bsmt_exposure_mapping)\n",
    "df['BsmtFinType1'] = df['BsmtFinType1'].map(bsmt_fin_type_mapping)\n",
    "df['GarageFinish'] = df['GarageFinish'].map(garage_finish_mapping)\n",
    "df['KitchenQual'] = df['KitchenQual'].map(kitchen_qual_mapping)"
   ]
  },
  {
   "cell_type": "markdown",
   "metadata": {},
   "source": [
    "Apply the mappings to the inherited houses dataset"
   ]
  },
  {
   "cell_type": "code",
   "execution_count": 20,
   "metadata": {},
   "outputs": [],
   "source": [
    "inherited_houses['BsmtExposure'] = inherited_houses['BsmtExposure'].map(bsmt_exposure_mapping)\n",
    "inherited_houses['BsmtFinType1'] = inherited_houses['BsmtFinType1'].map(bsmt_fin_type_mapping)\n",
    "inherited_houses['GarageFinish'] = inherited_houses['GarageFinish'].map(garage_finish_mapping)\n",
    "inherited_houses['KitchenQual'] = inherited_houses['KitchenQual'].map(kitchen_qual_mapping)"
   ]
  },
  {
   "cell_type": "markdown",
   "metadata": {},
   "source": [
    "Display the first few rows of the main dataset to verify the mappings"
   ]
  },
  {
   "cell_type": "code",
   "execution_count": 21,
   "metadata": {},
   "outputs": [
    {
     "data": {
      "text/html": [
       "<div>\n",
       "<style scoped>\n",
       "    .dataframe tbody tr th:only-of-type {\n",
       "        vertical-align: middle;\n",
       "    }\n",
       "\n",
       "    .dataframe tbody tr th {\n",
       "        vertical-align: top;\n",
       "    }\n",
       "\n",
       "    .dataframe thead th {\n",
       "        text-align: right;\n",
       "    }\n",
       "</style>\n",
       "<table border=\"1\" class=\"dataframe\">\n",
       "  <thead>\n",
       "    <tr style=\"text-align: right;\">\n",
       "      <th></th>\n",
       "      <th>BsmtExposure</th>\n",
       "      <th>BsmtFinType1</th>\n",
       "      <th>GarageFinish</th>\n",
       "      <th>KitchenQual</th>\n",
       "    </tr>\n",
       "  </thead>\n",
       "  <tbody>\n",
       "    <tr>\n",
       "      <th>0</th>\n",
       "      <td>0</td>\n",
       "      <td>6</td>\n",
       "      <td>2</td>\n",
       "      <td>2</td>\n",
       "    </tr>\n",
       "    <tr>\n",
       "      <th>1</th>\n",
       "      <td>3</td>\n",
       "      <td>5</td>\n",
       "      <td>2</td>\n",
       "      <td>1</td>\n",
       "    </tr>\n",
       "    <tr>\n",
       "      <th>2</th>\n",
       "      <td>1</td>\n",
       "      <td>6</td>\n",
       "      <td>2</td>\n",
       "      <td>2</td>\n",
       "    </tr>\n",
       "    <tr>\n",
       "      <th>3</th>\n",
       "      <td>0</td>\n",
       "      <td>5</td>\n",
       "      <td>1</td>\n",
       "      <td>2</td>\n",
       "    </tr>\n",
       "    <tr>\n",
       "      <th>4</th>\n",
       "      <td>2</td>\n",
       "      <td>6</td>\n",
       "      <td>2</td>\n",
       "      <td>2</td>\n",
       "    </tr>\n",
       "  </tbody>\n",
       "</table>\n",
       "</div>"
      ],
      "text/plain": [
       "   BsmtExposure  BsmtFinType1  GarageFinish  KitchenQual\n",
       "0             0             6             2            2\n",
       "1             3             5             2            1\n",
       "2             1             6             2            2\n",
       "3             0             5             1            2\n",
       "4             2             6             2            2"
      ]
     },
     "execution_count": 21,
     "metadata": {},
     "output_type": "execute_result"
    }
   ],
   "source": [
    "df[['BsmtExposure', 'BsmtFinType1', 'GarageFinish', 'KitchenQual']].head()"
   ]
  },
  {
   "cell_type": "markdown",
   "metadata": {},
   "source": [
    "Display the first few rows of the inherited houses dataset to verify the mappings"
   ]
  },
  {
   "cell_type": "code",
   "execution_count": 22,
   "metadata": {},
   "outputs": [
    {
     "data": {
      "text/html": [
       "<div>\n",
       "<style scoped>\n",
       "    .dataframe tbody tr th:only-of-type {\n",
       "        vertical-align: middle;\n",
       "    }\n",
       "\n",
       "    .dataframe tbody tr th {\n",
       "        vertical-align: top;\n",
       "    }\n",
       "\n",
       "    .dataframe thead th {\n",
       "        text-align: right;\n",
       "    }\n",
       "</style>\n",
       "<table border=\"1\" class=\"dataframe\">\n",
       "  <thead>\n",
       "    <tr style=\"text-align: right;\">\n",
       "      <th></th>\n",
       "      <th>BsmtExposure</th>\n",
       "      <th>BsmtFinType1</th>\n",
       "      <th>GarageFinish</th>\n",
       "      <th>KitchenQual</th>\n",
       "    </tr>\n",
       "  </thead>\n",
       "  <tbody>\n",
       "    <tr>\n",
       "      <th>0</th>\n",
       "      <td>0</td>\n",
       "      <td>3</td>\n",
       "      <td>1</td>\n",
       "      <td>1</td>\n",
       "    </tr>\n",
       "    <tr>\n",
       "      <th>1</th>\n",
       "      <td>0</td>\n",
       "      <td>5</td>\n",
       "      <td>1</td>\n",
       "      <td>2</td>\n",
       "    </tr>\n",
       "    <tr>\n",
       "      <th>2</th>\n",
       "      <td>0</td>\n",
       "      <td>6</td>\n",
       "      <td>3</td>\n",
       "      <td>1</td>\n",
       "    </tr>\n",
       "    <tr>\n",
       "      <th>3</th>\n",
       "      <td>0</td>\n",
       "      <td>6</td>\n",
       "      <td>3</td>\n",
       "      <td>2</td>\n",
       "    </tr>\n",
       "  </tbody>\n",
       "</table>\n",
       "</div>"
      ],
      "text/plain": [
       "   BsmtExposure  BsmtFinType1  GarageFinish  KitchenQual\n",
       "0             0             3             1            1\n",
       "1             0             5             1            2\n",
       "2             0             6             3            1\n",
       "3             0             6             3            2"
      ]
     },
     "execution_count": 22,
     "metadata": {},
     "output_type": "execute_result"
    }
   ],
   "source": [
    "inherited_houses[['BsmtExposure', 'BsmtFinType1', 'GarageFinish', 'KitchenQual']].head()"
   ]
  },
  {
   "cell_type": "markdown",
   "metadata": {},
   "source": [
    "* **Final Check Before Model Building**\n",
    "\n",
    "Ensure there are no categorical variables left and confirm the data types of all columns."
   ]
  },
  {
   "cell_type": "code",
   "execution_count": 23,
   "metadata": {},
   "outputs": [
    {
     "name": "stdout",
     "output_type": "stream",
     "text": [
      "Data types in the main dataset:\n",
      "1stFlrSF           int64\n",
      "2ndFlrSF         float64\n",
      "BedroomAbvGr     float64\n",
      "BsmtExposure       int64\n",
      "BsmtFinSF1         int64\n",
      "BsmtFinType1       int64\n",
      "BsmtUnfSF          int64\n",
      "EnclosedPorch    float64\n",
      "GarageArea         int64\n",
      "GarageFinish       int64\n",
      "GarageYrBlt      float64\n",
      "GrLivArea          int64\n",
      "KitchenQual        int64\n",
      "LotArea            int64\n",
      "LotFrontage      float64\n",
      "MasVnrArea       float64\n",
      "OpenPorchSF        int64\n",
      "OverallCond        int64\n",
      "OverallQual        int64\n",
      "TotalBsmtSF        int64\n",
      "WoodDeckSF       float64\n",
      "YearBuilt          int64\n",
      "YearRemodAdd       int64\n",
      "SalePrice          int64\n",
      "TotalSF          float64\n",
      "dtype: object\n"
     ]
    }
   ],
   "source": [
    "print(\"Data types in the main dataset:\")\n",
    "print(df.dtypes)"
   ]
  },
  {
   "cell_type": "code",
   "execution_count": 24,
   "metadata": {},
   "outputs": [
    {
     "name": "stdout",
     "output_type": "stream",
     "text": [
      "\n",
      "Data types in the inherited houses dataset:\n",
      "1stFlrSF           int64\n",
      "2ndFlrSF           int64\n",
      "BedroomAbvGr       int64\n",
      "BsmtExposure       int64\n",
      "BsmtFinSF1       float64\n",
      "BsmtFinType1       int64\n",
      "BsmtUnfSF        float64\n",
      "EnclosedPorch      int64\n",
      "GarageArea       float64\n",
      "GarageFinish       int64\n",
      "GarageYrBlt      float64\n",
      "GrLivArea          int64\n",
      "KitchenQual        int64\n",
      "LotArea            int64\n",
      "LotFrontage      float64\n",
      "MasVnrArea       float64\n",
      "OpenPorchSF        int64\n",
      "OverallCond        int64\n",
      "OverallQual        int64\n",
      "TotalBsmtSF      float64\n",
      "WoodDeckSF         int64\n",
      "YearBuilt          int64\n",
      "YearRemodAdd       int64\n",
      "TotalSF          float64\n",
      "dtype: object\n"
     ]
    }
   ],
   "source": [
    "print(\"\\nData types in the inherited houses dataset:\")\n",
    "print(inherited_houses.dtypes)"
   ]
  },
  {
   "cell_type": "markdown",
   "metadata": {},
   "source": [
    "## Splitting the Data\n",
    "\n",
    "In this step we will be splitting the main dataset into training and testing sets. The training set will be use to build the model, and the testing set will be used to evaluate its performance.\n",
    "\n",
    "We will split the data as follow:\n",
    "\n",
    "* **Training Set:** 80% of the data, used to train the model.\n",
    "\n",
    "* **Testing Set:** 20% of the data, used to test the models performance."
   ]
  },
  {
   "cell_type": "markdown",
   "metadata": {},
   "source": [
    "* **Define the Target and Features**\n",
    "\n",
    "We need to specify the target variable (SalePrice) and the features (all other columns, except SalePrice).\n"
   ]
  },
  {
   "cell_type": "code",
   "execution_count": 25,
   "metadata": {},
   "outputs": [
    {
     "name": "stdout",
     "output_type": "stream",
     "text": [
      "Features shape: (1460, 24)\n",
      "Target shape: (1460,)\n"
     ]
    }
   ],
   "source": [
    "X = df.drop(columns=['SalePrice'])\n",
    "y = df['SalePrice']\n",
    "\n",
    "print(\"Features shape:\", X.shape)\n",
    "print(\"Target shape:\", y.shape)"
   ]
  },
  {
   "cell_type": "markdown",
   "metadata": {},
   "source": [
    "* **Splitting the Data**\n",
    "\n",
    "We will use train_test_split from scikit-learn to split the data into training and testing sets."
   ]
  },
  {
   "cell_type": "code",
   "execution_count": 26,
   "metadata": {},
   "outputs": [
    {
     "name": "stdout",
     "output_type": "stream",
     "text": [
      "Training Features Shape: (1168, 24)\n",
      "Testing Features Shape: (292, 24)\n",
      "Training Target Shape: (1168,)\n",
      "Testing Target Shape: (292,)\n"
     ]
    }
   ],
   "source": [
    "from sklearn.model_selection import train_test_split\n",
    "\n",
    "X_train, X_test, y_train, y_test = train_test_split(X, y, test_size=0.2, random_state=42)\n",
    "\n",
    "print(\"Training Features Shape:\", X_train.shape)\n",
    "print(\"Testing Features Shape:\", X_test.shape)\n",
    "print(\"Training Target Shape:\", y_train.shape)\n",
    "print(\"Testing Target Shape:\", y_test.shape)"
   ]
  },
  {
   "cell_type": "markdown",
   "metadata": {},
   "source": [
    "* **Save the Test Data to .csv files**\n",
    "\n",
    "Before moving to model selection training we will save the training and test data to .csv files."
   ]
  },
  {
   "cell_type": "code",
   "execution_count": 27,
   "metadata": {},
   "outputs": [],
   "source": [
    "X_train.to_csv('outputs/datasets/collection/X_train.csv', index=False)\n",
    "y_train.to_csv('outputs/datasets/collection/y_train.csv', index=False)\n",
    "\n",
    "X_test.to_csv('outputs/datasets/collection/X_test.csv', index=False)\n",
    "y_test.to_csv('outputs/datasets/collection/y_test.csv', index=False)\n",
    "\n",
    "inherited_houses.to_csv('outputs/datasets/collection/inherited_houses_cleaned.csv', index=False)"
   ]
  },
  {
   "cell_type": "markdown",
   "metadata": {},
   "source": [
    "## Model Selection and Training\n",
    "\n",
    "Now we will choose a machine learning model and train it using the training data. Given that we are working on a regression problem (predicting house prices), we will start with a basic model: Linear Regression. Afterwards we can look at more advanced models like Random Forest."
   ]
  },
  {
   "cell_type": "markdown",
   "metadata": {},
   "source": [
    "* **Training a Linear Regression Model**\n",
    "\n",
    "Linear Regression is one of the simplest and most interpretable models making it a good starting point. We will use this for baseline performance."
   ]
  },
  {
   "cell_type": "markdown",
   "metadata": {},
   "source": [
    "Import the Linear Regression model from scikit-learn"
   ]
  },
  {
   "cell_type": "code",
   "execution_count": 28,
   "metadata": {},
   "outputs": [],
   "source": [
    "from sklearn.linear_model import LinearRegression"
   ]
  },
  {
   "cell_type": "markdown",
   "metadata": {},
   "source": [
    "Initialize the Linear Regression model"
   ]
  },
  {
   "cell_type": "code",
   "execution_count": 29,
   "metadata": {},
   "outputs": [],
   "source": [
    "lr_model = LinearRegression()"
   ]
  },
  {
   "cell_type": "markdown",
   "metadata": {},
   "source": [
    "Train (fit) the model using the training data"
   ]
  },
  {
   "cell_type": "code",
   "execution_count": 30,
   "metadata": {},
   "outputs": [
    {
     "name": "stdout",
     "output_type": "stream",
     "text": [
      "Model Coefficients: [ 3.26379554e+00  3.05497250e+00 -3.19791830e+03  4.78944410e+03\n",
      "  4.48024041e+00  9.61087107e+02 -4.27156220e+00 -3.07625597e+01\n",
      "  4.25526227e+01  1.89462626e+03 -8.51840327e+00  3.56592866e+01\n",
      "  1.53495942e+04  5.09543222e-01 -5.54991098e+01  2.02944902e+01\n",
      " -1.09976220e+01  4.54595967e+03  1.68056481e+04  5.13047283e+00\n",
      "  1.48723996e+01  2.76525475e+02  5.11737314e+01  1.14492409e+01]\n",
      "Model Intercept: -718079.6067312461\n"
     ]
    }
   ],
   "source": [
    "lr_model.fit(X_train, y_train)\n",
    "\n",
    "print(\"Model Coefficients:\", lr_model.coef_)\n",
    "print(\"Model Intercept:\", lr_model.intercept_)"
   ]
  },
  {
   "cell_type": "markdown",
   "metadata": {},
   "source": [
    "* **Evaluate the Model**\n",
    "\n",
    "After training the model we need to evaluate its performance on both the training and testing sets. We will use R² (coefficient of determination) and mean squared error (MSE) as the evaluation metrics."
   ]
  },
  {
   "cell_type": "markdown",
   "metadata": {},
   "source": [
    "Import evaluation metrics"
   ]
  },
  {
   "cell_type": "code",
   "execution_count": 31,
   "metadata": {},
   "outputs": [],
   "source": [
    "from sklearn.metrics import mean_squared_error, r2_score"
   ]
  },
  {
   "cell_type": "markdown",
   "metadata": {},
   "source": [
    "Make predictions on the training and testing sets"
   ]
  },
  {
   "cell_type": "code",
   "execution_count": 32,
   "metadata": {},
   "outputs": [],
   "source": [
    "y_train_pred = lr_model.predict(X_train)\n",
    "y_test_pred = lr_model.predict(X_test)"
   ]
  },
  {
   "cell_type": "markdown",
   "metadata": {},
   "source": [
    "Evaluate the model on the training set"
   ]
  },
  {
   "cell_type": "code",
   "execution_count": 33,
   "metadata": {},
   "outputs": [
    {
     "name": "stdout",
     "output_type": "stream",
     "text": [
      "Training R²: 0.80\n",
      "Training Mean Squared Error: 1209341991.66\n"
     ]
    }
   ],
   "source": [
    "train_r2 = r2_score(y_train, y_train_pred)\n",
    "train_mse = mean_squared_error(y_train, y_train_pred)\n",
    "\n",
    "print(f\"Training R²: {train_r2:.2f}\")\n",
    "print(f\"Training Mean Squared Error: {train_mse:.2f}\")"
   ]
  },
  {
   "cell_type": "markdown",
   "metadata": {},
   "source": [
    "Evaluate the model on the testing set"
   ]
  },
  {
   "cell_type": "code",
   "execution_count": 34,
   "metadata": {},
   "outputs": [
    {
     "name": "stdout",
     "output_type": "stream",
     "text": [
      "Testing R²: 0.83\n",
      "Testing Mean Squared Error: 1270949169.17\n"
     ]
    }
   ],
   "source": [
    "test_r2 = r2_score(y_test, y_test_pred)\n",
    "test_mse = mean_squared_error(y_test, y_test_pred)\n",
    "\n",
    "print(f\"Testing R²: {test_r2:.2f}\")\n",
    "print(f\"Testing Mean Squared Error: {test_mse:.2f}\")"
   ]
  },
  {
   "cell_type": "markdown",
   "metadata": {},
   "source": [
    "Testing R² of 0.83 exceeds the performance criteria of at least 0.75, meaning that the model generalizes well to the unseen testing data. This indicates that the model is performing well both on the training and testing sets.\n",
    "\n",
    "The Mean Squared Error (MSE) of 1.27 billion shows some variability in predictions, but given that the R² score is strong, the model is likely capturing the overall relationships between house attributes and sale prices effectively.\n",
    "\n",
    "**Summary of Performance:**\n",
    "\n",
    "* Training R²: 0.80\n",
    "\n",
    "* Testing R²: 0.83\n",
    "\n",
    "* Performance Criteria: Met on both training and testing sets."
   ]
  },
  {
   "cell_type": "markdown",
   "metadata": {},
   "source": [
    "* **Predicting Prices for Inherited Houses**\n",
    "\n",
    "Now that the model is trained, we can use it to predict the sale prices of Lydia’s inherited houses."
   ]
  },
  {
   "cell_type": "markdown",
   "metadata": {},
   "source": [
    "Predict the sale prices for the inherited houses using the trained model"
   ]
  },
  {
   "cell_type": "code",
   "execution_count": 35,
   "metadata": {},
   "outputs": [],
   "source": [
    "inherited_houses_predictions = lr_model.predict(inherited_houses)"
   ]
  },
  {
   "cell_type": "markdown",
   "metadata": {},
   "source": [
    "Add the predictions as a new column in the inherited houses dataset"
   ]
  },
  {
   "cell_type": "code",
   "execution_count": 36,
   "metadata": {},
   "outputs": [],
   "source": [
    "inherited_houses['Predicted_SalePrice'] = inherited_houses_predictions"
   ]
  },
  {
   "cell_type": "markdown",
   "metadata": {},
   "source": [
    "Display the inherited houses with predicted sale prices"
   ]
  },
  {
   "cell_type": "code",
   "execution_count": 37,
   "metadata": {},
   "outputs": [
    {
     "data": {
      "text/html": [
       "<div>\n",
       "<style scoped>\n",
       "    .dataframe tbody tr th:only-of-type {\n",
       "        vertical-align: middle;\n",
       "    }\n",
       "\n",
       "    .dataframe tbody tr th {\n",
       "        vertical-align: top;\n",
       "    }\n",
       "\n",
       "    .dataframe thead th {\n",
       "        text-align: right;\n",
       "    }\n",
       "</style>\n",
       "<table border=\"1\" class=\"dataframe\">\n",
       "  <thead>\n",
       "    <tr style=\"text-align: right;\">\n",
       "      <th></th>\n",
       "      <th>TotalSF</th>\n",
       "      <th>Predicted_SalePrice</th>\n",
       "    </tr>\n",
       "  </thead>\n",
       "  <tbody>\n",
       "    <tr>\n",
       "      <th>0</th>\n",
       "      <td>1778.0</td>\n",
       "      <td>128197.463809</td>\n",
       "    </tr>\n",
       "    <tr>\n",
       "      <th>1</th>\n",
       "      <td>2658.0</td>\n",
       "      <td>177863.198534</td>\n",
       "    </tr>\n",
       "    <tr>\n",
       "      <th>2</th>\n",
       "      <td>2557.0</td>\n",
       "      <td>169824.121692</td>\n",
       "    </tr>\n",
       "    <tr>\n",
       "      <th>3</th>\n",
       "      <td>2530.0</td>\n",
       "      <td>203749.739893</td>\n",
       "    </tr>\n",
       "  </tbody>\n",
       "</table>\n",
       "</div>"
      ],
      "text/plain": [
       "   TotalSF  Predicted_SalePrice\n",
       "0   1778.0        128197.463809\n",
       "1   2658.0        177863.198534\n",
       "2   2557.0        169824.121692\n",
       "3   2530.0        203749.739893"
      ]
     },
     "execution_count": 37,
     "metadata": {},
     "output_type": "execute_result"
    }
   ],
   "source": [
    "inherited_houses[['TotalSF', 'Predicted_SalePrice']]"
   ]
  },
  {
   "cell_type": "markdown",
   "metadata": {},
   "source": [
    "## Model Optimization"
   ]
  },
  {
   "cell_type": "markdown",
   "metadata": {},
   "source": [
    "* **Advanced Models**\n",
    "\n",
    "The first step in optimization is to try more powerful models. We'll start by exploring two well-known algorithms:\n",
    "\n",
    "* Random Forest\n",
    "\n",
    "* XGBoost\n",
    "\n",
    "These models are often better at capturing complex patterns in data compared to Linear Regression."
   ]
  },
  {
   "cell_type": "markdown",
   "metadata": {},
   "source": [
    "* **Training a Random Forest Model**\n",
    "\n",
    "A Random Forest is an ensemble model that uses multiple decision trees to improve prediction accuracy."
   ]
  },
  {
   "cell_type": "code",
   "execution_count": 38,
   "metadata": {},
   "outputs": [
    {
     "name": "stdout",
     "output_type": "stream",
     "text": [
      "Training R² (Random Forest): 0.98\n",
      "Testing R² (Random Forest): 0.89\n"
     ]
    }
   ],
   "source": [
    "# Import the Random Forest Regressor from scikit-learn\n",
    "from sklearn.ensemble import RandomForestRegressor\n",
    "\n",
    "# Initialize the Random Forest Regressor\n",
    "rf_model = RandomForestRegressor(n_estimators=100, random_state=42)\n",
    "\n",
    "# Train (fit) the Random Forest model on the training data\n",
    "rf_model.fit(X_train, y_train)\n",
    "\n",
    "# Evaluate the model on the training set\n",
    "train_r2_rf = rf_model.score(X_train, y_train)\n",
    "print(f\"Training R² (Random Forest): {train_r2_rf:.2f}\")\n",
    "\n",
    "# Evaluate the model on the testing set\n",
    "test_r2_rf = rf_model.score(X_test, y_test)\n",
    "print(f\"Testing R² (Random Forest): {test_r2_rf:.2f}\")\n"
   ]
  },
  {
   "cell_type": "markdown",
   "metadata": {},
   "source": [
    "* **Training an XGBoost Model**\n",
    "\n",
    "XGBoost is another powerful ensemble model that often performs well in regression tasks."
   ]
  },
  {
   "cell_type": "code",
   "execution_count": 39,
   "metadata": {},
   "outputs": [
    {
     "name": "stdout",
     "output_type": "stream",
     "text": [
      "Training R² (XGBoost): 1.00\n",
      "Testing R² (XGBoost): 0.90\n"
     ]
    }
   ],
   "source": [
    "# Import the XGBoost Regressor\n",
    "from xgboost import XGBRegressor\n",
    "\n",
    "# Initialize the XGBoost Regressor\n",
    "xgb_model = XGBRegressor(n_estimators=100, random_state=42)\n",
    "\n",
    "# Train (fit) the XGBoost model on the training data\n",
    "xgb_model.fit(X_train, y_train)\n",
    "\n",
    "# Evaluate the model on the training set\n",
    "train_r2_xgb = xgb_model.score(X_train, y_train)\n",
    "print(f\"Training R² (XGBoost): {train_r2_xgb:.2f}\")\n",
    "\n",
    "# Evaluate the model on the testing set\n",
    "test_r2_xgb = xgb_model.score(X_test, y_test)\n",
    "print(f\"Testing R² (XGBoost): {test_r2_xgb:.2f}\")\n"
   ]
  },
  {
   "cell_type": "markdown",
   "metadata": {},
   "source": [
    "* **Using Random Forest and XGBoost models on Inherited Houses Data to see if Hyperparameter tuning is needed**\n",
    "\n",
    "The results of the testing on the Training and Test datasets are as follow:\n",
    "\n",
    "* **Training R² (Random Forest): 0.98**\n",
    "\n",
    "* **Testing R² (Random Forest): 0.89**\n",
    "\n",
    "* **Training R² (XGBoost): 1.00**\n",
    "\n",
    "* **Testing R² (XGBoost): 0.90**\n",
    "\n",
    "Given that these scores exceed expectations we will run the Inherited Houses data through the models to check preformace"
   ]
  },
  {
   "cell_type": "code",
   "execution_count": 40,
   "metadata": {},
   "outputs": [
    {
     "name": "stdout",
     "output_type": "stream",
     "text": [
      "Inherited houses columns (after dropping extra columns): Index(['1stFlrSF', '2ndFlrSF', 'BedroomAbvGr', 'BsmtExposure', 'BsmtFinSF1',\n",
      "       'BsmtFinType1', 'BsmtUnfSF', 'EnclosedPorch', 'GarageArea',\n",
      "       'GarageFinish', 'GarageYrBlt', 'GrLivArea', 'KitchenQual', 'LotArea',\n",
      "       'LotFrontage', 'MasVnrArea', 'OpenPorchSF', 'OverallCond',\n",
      "       'OverallQual', 'TotalBsmtSF', 'WoodDeckSF', 'YearBuilt', 'YearRemodAdd',\n",
      "       'TotalSF'],\n",
      "      dtype='object')\n",
      "Training data columns: Index(['1stFlrSF', '2ndFlrSF', 'BedroomAbvGr', 'BsmtExposure', 'BsmtFinSF1',\n",
      "       'BsmtFinType1', 'BsmtUnfSF', 'EnclosedPorch', 'GarageArea',\n",
      "       'GarageFinish', 'GarageYrBlt', 'GrLivArea', 'KitchenQual', 'LotArea',\n",
      "       'LotFrontage', 'MasVnrArea', 'OpenPorchSF', 'OverallCond',\n",
      "       'OverallQual', 'TotalBsmtSF', 'WoodDeckSF', 'YearBuilt', 'YearRemodAdd',\n",
      "       'TotalSF'],\n",
      "      dtype='object')\n"
     ]
    }
   ],
   "source": [
    "# Drop any columns that are not part of the original features used during training\n",
    "inherited_houses_for_prediction = inherited_houses[X_train.columns]\n",
    "\n",
    "# Verify that the columns match between the training data and the inherited houses data\n",
    "print(\"Inherited houses columns (after dropping extra columns):\", inherited_houses_for_prediction.columns)\n",
    "print(\"Training data columns:\", X_train.columns)"
   ]
  },
  {
   "cell_type": "code",
   "execution_count": 41,
   "metadata": {},
   "outputs": [
    {
     "name": "stdout",
     "output_type": "stream",
     "text": [
      "Inherited Houses Predictions - Random Forest:\n"
     ]
    },
    {
     "data": {
      "text/html": [
       "<div>\n",
       "<style scoped>\n",
       "    .dataframe tbody tr th:only-of-type {\n",
       "        vertical-align: middle;\n",
       "    }\n",
       "\n",
       "    .dataframe tbody tr th {\n",
       "        vertical-align: top;\n",
       "    }\n",
       "\n",
       "    .dataframe thead th {\n",
       "        text-align: right;\n",
       "    }\n",
       "</style>\n",
       "<table border=\"1\" class=\"dataframe\">\n",
       "  <thead>\n",
       "    <tr style=\"text-align: right;\">\n",
       "      <th></th>\n",
       "      <th>TotalSF</th>\n",
       "      <th>Predicted_SalePrice_RF</th>\n",
       "    </tr>\n",
       "  </thead>\n",
       "  <tbody>\n",
       "    <tr>\n",
       "      <th>0</th>\n",
       "      <td>1778.0</td>\n",
       "      <td>126131.83</td>\n",
       "    </tr>\n",
       "    <tr>\n",
       "      <th>1</th>\n",
       "      <td>2658.0</td>\n",
       "      <td>171036.20</td>\n",
       "    </tr>\n",
       "    <tr>\n",
       "      <th>2</th>\n",
       "      <td>2557.0</td>\n",
       "      <td>173869.55</td>\n",
       "    </tr>\n",
       "    <tr>\n",
       "      <th>3</th>\n",
       "      <td>2530.0</td>\n",
       "      <td>183393.44</td>\n",
       "    </tr>\n",
       "  </tbody>\n",
       "</table>\n",
       "</div>"
      ],
      "text/plain": [
       "   TotalSF  Predicted_SalePrice_RF\n",
       "0   1778.0               126131.83\n",
       "1   2658.0               171036.20\n",
       "2   2557.0               173869.55\n",
       "3   2530.0               183393.44"
      ]
     },
     "execution_count": 41,
     "metadata": {},
     "output_type": "execute_result"
    }
   ],
   "source": [
    "# Predict the sale prices for the inherited houses using the Random Forest model\n",
    "inherited_houses_rf_predictions = rf_model.predict(inherited_houses_for_prediction)\n",
    "\n",
    "# Add the Random Forest predictions as a new column in the inherited houses dataset\n",
    "inherited_houses['Predicted_SalePrice_RF'] = inherited_houses_rf_predictions\n",
    "\n",
    "# Display the inherited houses with predicted sale prices using Random Forest\n",
    "print(\"Inherited Houses Predictions - Random Forest:\")\n",
    "inherited_houses[['TotalSF', 'Predicted_SalePrice_RF']]\n"
   ]
  },
  {
   "cell_type": "code",
   "execution_count": 42,
   "metadata": {},
   "outputs": [
    {
     "name": "stdout",
     "output_type": "stream",
     "text": [
      "Inherited Houses Predictions - XGBoost:\n"
     ]
    },
    {
     "data": {
      "text/html": [
       "<div>\n",
       "<style scoped>\n",
       "    .dataframe tbody tr th:only-of-type {\n",
       "        vertical-align: middle;\n",
       "    }\n",
       "\n",
       "    .dataframe tbody tr th {\n",
       "        vertical-align: top;\n",
       "    }\n",
       "\n",
       "    .dataframe thead th {\n",
       "        text-align: right;\n",
       "    }\n",
       "</style>\n",
       "<table border=\"1\" class=\"dataframe\">\n",
       "  <thead>\n",
       "    <tr style=\"text-align: right;\">\n",
       "      <th></th>\n",
       "      <th>TotalSF</th>\n",
       "      <th>Predicted_SalePrice_XGB</th>\n",
       "    </tr>\n",
       "  </thead>\n",
       "  <tbody>\n",
       "    <tr>\n",
       "      <th>0</th>\n",
       "      <td>1778.0</td>\n",
       "      <td>126437.609375</td>\n",
       "    </tr>\n",
       "    <tr>\n",
       "      <th>1</th>\n",
       "      <td>2658.0</td>\n",
       "      <td>153235.796875</td>\n",
       "    </tr>\n",
       "    <tr>\n",
       "      <th>2</th>\n",
       "      <td>2557.0</td>\n",
       "      <td>182358.859375</td>\n",
       "    </tr>\n",
       "    <tr>\n",
       "      <th>3</th>\n",
       "      <td>2530.0</td>\n",
       "      <td>196840.343750</td>\n",
       "    </tr>\n",
       "  </tbody>\n",
       "</table>\n",
       "</div>"
      ],
      "text/plain": [
       "   TotalSF  Predicted_SalePrice_XGB\n",
       "0   1778.0            126437.609375\n",
       "1   2658.0            153235.796875\n",
       "2   2557.0            182358.859375\n",
       "3   2530.0            196840.343750"
      ]
     },
     "execution_count": 42,
     "metadata": {},
     "output_type": "execute_result"
    }
   ],
   "source": [
    "# Predict the sale prices for the inherited houses using the XGBoost model\n",
    "inherited_houses_xgb_predictions = xgb_model.predict(inherited_houses_for_prediction)\n",
    "\n",
    "# Add the XGBoost predictions as a new column in the inherited houses dataset\n",
    "inherited_houses['Predicted_SalePrice_XGB'] = inherited_houses_xgb_predictions\n",
    "\n",
    "# Display the inherited houses with predicted sale prices using XGBoost\n",
    "print(\"Inherited Houses Predictions - XGBoost:\")\n",
    "inherited_houses[['TotalSF', 'Predicted_SalePrice_XGB']]\n"
   ]
  },
  {
   "cell_type": "code",
   "execution_count": 43,
   "metadata": {},
   "outputs": [],
   "source": [
    "# Save the predictions to a CSV file\n",
    "inherited_houses.to_csv('/workspace/HeritageHousing/outputs/datasets/collection/inherited_houses_predictions.csv', index=False)\n"
   ]
  },
  {
   "cell_type": "markdown",
   "metadata": {},
   "source": [
    "## Model Evaluation & Comparison\n",
    "\n",
    "Now we will create a summary table comparing the performance of the Linear Regression, Random Forest, and XGBoost models on both the training and testing datasets. We will use the metrics R² and Mean Squared Error (MSE) for comparison.\n",
    "\n",
    "Steps to proceed:\n",
    "\n",
    "* Compute the R² and MSE for all models on both training and testing data.\n",
    "\n",
    "* Organize these results into a pandas DataFrame for easy comparison.\n",
    "\n",
    "* Display the table.\n"
   ]
  },
  {
   "cell_type": "code",
   "execution_count": 44,
   "metadata": {},
   "outputs": [
    {
     "name": "stdout",
     "output_type": "stream",
     "text": [
      "Linear Regression - Training R²: 0.80, Testing R²: 0.83\n",
      "Linear Regression - Training MSE: 1209341991.66, Testing MSE: 1270949169.17\n",
      "\n",
      "Random Forest - Training R²: 0.98, Testing R²: 0.89\n",
      "Random Forest - Training MSE: 120843347.91, Testing MSE: 860818070.44\n",
      "\n",
      "XGBoost - Training R²: 1.00, Testing R²: 0.90\n",
      "XGBoost - Training MSE: 1825791.03, Testing MSE: 786374777.85\n",
      "\n"
     ]
    }
   ],
   "source": [
    "# Linear Regression\n",
    "train_r2_lr = r2_score(y_train, y_train_pred)\n",
    "test_r2_lr = r2_score(y_test, y_test_pred)\n",
    "train_mse_lr = mean_squared_error(y_train, y_train_pred)\n",
    "test_mse_lr = mean_squared_error(y_test, y_test_pred)\n",
    "\n",
    "# Random Forest\n",
    "y_train_pred_rf = rf_model.predict(X_train)\n",
    "y_test_pred_rf = rf_model.predict(X_test)\n",
    "train_r2_rf = r2_score(y_train, y_train_pred_rf)\n",
    "test_r2_rf = r2_score(y_test, y_test_pred_rf)\n",
    "train_mse_rf = mean_squared_error(y_train, y_train_pred_rf)\n",
    "test_mse_rf = mean_squared_error(y_test, y_test_pred_rf)\n",
    "\n",
    "# XGBoost\n",
    "y_train_pred_xgb = xgb_model.predict(X_train)\n",
    "y_test_pred_xgb = xgb_model.predict(X_test)\n",
    "train_r2_xgb = r2_score(y_train, y_train_pred_xgb)\n",
    "test_r2_xgb = r2_score(y_test, y_test_pred_xgb)\n",
    "train_mse_xgb = mean_squared_error(y_train, y_train_pred_xgb)\n",
    "test_mse_xgb = mean_squared_error(y_test, y_test_pred_xgb)\n",
    "\n",
    "# Print the R² and MSE for each model\n",
    "print(f\"Linear Regression - Training R²: {train_r2_lr:.2f}, Testing R²: {test_r2_lr:.2f}\")\n",
    "print(f\"Linear Regression - Training MSE: {train_mse_lr:.2f}, Testing MSE: {test_mse_lr:.2f}\\n\")\n",
    "\n",
    "print(f\"Random Forest - Training R²: {train_r2_rf:.2f}, Testing R²: {test_r2_rf:.2f}\")\n",
    "print(f\"Random Forest - Training MSE: {train_mse_rf:.2f}, Testing MSE: {test_mse_rf:.2f}\\n\")\n",
    "\n",
    "print(f\"XGBoost - Training R²: {train_r2_xgb:.2f}, Testing R²: {test_r2_xgb:.2f}\")\n",
    "print(f\"XGBoost - Training MSE: {train_mse_xgb:.2f}, Testing MSE: {test_mse_xgb:.2f}\\n\")\n"
   ]
  },
  {
   "cell_type": "markdown",
   "metadata": {},
   "source": [
    "* **Organize the Results into a DataFrame**"
   ]
  },
  {
   "cell_type": "code",
   "execution_count": 45,
   "metadata": {},
   "outputs": [
    {
     "data": {
      "text/html": [
       "<div>\n",
       "<style scoped>\n",
       "    .dataframe tbody tr th:only-of-type {\n",
       "        vertical-align: middle;\n",
       "    }\n",
       "\n",
       "    .dataframe tbody tr th {\n",
       "        vertical-align: top;\n",
       "    }\n",
       "\n",
       "    .dataframe thead th {\n",
       "        text-align: right;\n",
       "    }\n",
       "</style>\n",
       "<table border=\"1\" class=\"dataframe\">\n",
       "  <thead>\n",
       "    <tr style=\"text-align: right;\">\n",
       "      <th></th>\n",
       "      <th>Model</th>\n",
       "      <th>Training R²</th>\n",
       "      <th>Testing R²</th>\n",
       "      <th>Training MSE</th>\n",
       "      <th>Testing MSE</th>\n",
       "    </tr>\n",
       "  </thead>\n",
       "  <tbody>\n",
       "    <tr>\n",
       "      <th>0</th>\n",
       "      <td>Linear Regression</td>\n",
       "      <td>0.797245</td>\n",
       "      <td>0.834303</td>\n",
       "      <td>1.209342e+09</td>\n",
       "      <td>1.270949e+09</td>\n",
       "    </tr>\n",
       "    <tr>\n",
       "      <th>1</th>\n",
       "      <td>Random Forest</td>\n",
       "      <td>0.979740</td>\n",
       "      <td>0.887773</td>\n",
       "      <td>1.208433e+08</td>\n",
       "      <td>8.608181e+08</td>\n",
       "    </tr>\n",
       "    <tr>\n",
       "      <th>2</th>\n",
       "      <td>XGBoost</td>\n",
       "      <td>0.999694</td>\n",
       "      <td>0.897478</td>\n",
       "      <td>1.825791e+06</td>\n",
       "      <td>7.863748e+08</td>\n",
       "    </tr>\n",
       "  </tbody>\n",
       "</table>\n",
       "</div>"
      ],
      "text/plain": [
       "               Model  Training R²  Testing R²  Training MSE   Testing MSE\n",
       "0  Linear Regression     0.797245    0.834303  1.209342e+09  1.270949e+09\n",
       "1      Random Forest     0.979740    0.887773  1.208433e+08  8.608181e+08\n",
       "2            XGBoost     0.999694    0.897478  1.825791e+06  7.863748e+08"
      ]
     },
     "execution_count": 45,
     "metadata": {},
     "output_type": "execute_result"
    }
   ],
   "source": [
    "# Create a DataFrame with the results\n",
    "results = pd.DataFrame({\n",
    "    'Model': ['Linear Regression', 'Random Forest', 'XGBoost'],\n",
    "    'Training R²': [train_r2_lr, train_r2_rf, train_r2_xgb],\n",
    "    'Testing R²': [test_r2_lr, test_r2_rf, test_r2_xgb],\n",
    "    'Training MSE': [train_mse_lr, train_mse_rf, train_mse_xgb],\n",
    "    'Testing MSE': [test_mse_lr, test_mse_rf, test_mse_xgb]\n",
    "})\n",
    "\n",
    "# Display the DataFrame\n",
    "results"
   ]
  },
  {
   "cell_type": "markdown",
   "metadata": {},
   "source": [
    "## Saving the Model\n",
    "\n",
    "As we will be using the XGBoost model we will save it for later use so we dont have to retrain it."
   ]
  },
  {
   "cell_type": "markdown",
   "metadata": {},
   "source": [
    "Create the 'outputs/models' directory"
   ]
  },
  {
   "cell_type": "code",
   "execution_count": 47,
   "metadata": {},
   "outputs": [],
   "source": [
    "os.makedirs('outputs/models', exist_ok=True)"
   ]
  },
  {
   "cell_type": "markdown",
   "metadata": {},
   "source": [
    "Save the model to the specified path"
   ]
  },
  {
   "cell_type": "code",
   "execution_count": 48,
   "metadata": {},
   "outputs": [
    {
     "data": {
      "text/plain": [
       "['outputs/models/xgb_model.pkl']"
      ]
     },
     "execution_count": 48,
     "metadata": {},
     "output_type": "execute_result"
    }
   ],
   "source": [
    "joblib.dump(xgb_model, 'outputs/models/xgb_model.pkl')"
   ]
  },
  {
   "cell_type": "markdown",
   "metadata": {},
   "source": [
    "## Final Visualization"
   ]
  },
  {
   "cell_type": "code",
   "execution_count": 49,
   "metadata": {},
   "outputs": [
    {
     "data": {
      "text/plain": [
       "<Figure size 800x500 with 0 Axes>"
      ]
     },
     "metadata": {},
     "output_type": "display_data"
    },
    {
     "data": {
      "image/png": "[encoded data removed]",
      "text/plain": [
       "<Figure size 1000x600 with 1 Axes>"
      ]
     },
     "metadata": {},
     "output_type": "display_data"
    }
   ],
   "source": [
    "plt.figure(figsize=(8,5))\n",
    "results.plot(x='Model', y=['Training R²', 'Testing R²'], kind='bar', title='Model R² Comparison', figsize=(10,6))\n",
    "plt.ylabel('R² Score')\n",
    "plt.show()"
   ]
  },
  {
   "cell_type": "markdown",
   "metadata": {},
   "source": [
    "## Conclusion\n",
    "\n",
    "In this notebook, we achieved the following:\n",
    "\n",
    "### **Data Preparation:**\n",
    "- Cleaned the main and inherited house datasets by handling missing values and performing feature engineering (like creating the TotalSF feature).\n",
    "- Encoded categorical variables to numerical formats for use in machine learning models.\n",
    "\n",
    "### **Model Building and Evaluation:**\n",
    "- Trained three models: Linear Regression, Random Forest, and XGBoost.\n",
    "- Evaluated all models using R² and Mean Squared Error (MSE) on both training and testing datasets.\n",
    "- Generated predictions for Lydia’s inherited houses using all three models.\n",
    "\n",
    "### **Model Comparison:**\n",
    "- XGBoost outperformed the other models with the highest R² score on both training (0.999) and testing (0.897) sets, and the lowest MSE on the testing set.\n",
    "- Random Forest also performed well but had a slightly lower R² score on the testing set (0.887).\n",
    "- Linear Regression had the lowest performance in terms of R² and MSE.\n",
    "\n",
    "### **Final Model Selection:**\n",
    "Based on the comparison of models, **XGBoost** was selected as the best-performing model, as it generalizes well and provides the highest prediction accuracy for house prices. This model was saved for future use.\n",
    "\n"
   ]
  }
 ],
 "metadata": {
  "kernelspec": {
   "display_name": "Python 3",
   "language": "python",
   "name": "python3"
  },
  "language_info": {
   "codemirror_mode": {
    "name": "ipython",
    "version": 3
   },
   "file_extension": ".py",
   "mimetype": "text/x-python",
   "name": "python",
   "nbconvert_exporter": "python",
   "pygments_lexer": "ipython3",
   "version": "3.12.2"
  }
 },
 "nbformat": 4,
 "nbformat_minor": 2
}
