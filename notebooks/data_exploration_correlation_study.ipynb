{
 "cells": [
  {
   "cell_type": "markdown",
   "metadata": {},
   "source": [
    "# **Data Exploration and Correlation Studies**\n",
    "\n",
    "## Objectives\n",
    "\n",
    "* **Business Requirement 1:**\n",
    "    * Investigate the relationship between house attributes and sale prices.\n",
    "    * Conduct a detailed correlation study using both Spearman and Pearson methods.\n",
    "    * Visualize the strength of correlations with sale price.\n",
    "    * Generate plots for the variables that show the highest correlations with sale price to derive actionable insights.\n",
    "\n",
    "## Inputs\n",
    "\n",
    "* The cleaned datasets from the previous notebook:\n",
    "  * `outputs/datasets/collection/HousePricing.csv`\n",
    "  * `outputs/datasets/collection/InheritedHouses.csv`\n",
    "\n",
    "## Outputs\n",
    "\n",
    "* Visualizations showing relationships between key house attributes and `SalePrice`.\n",
    "* Correlation matrices (Pearson and Spearman) to identify the most relevant variables.\n",
    "* Summary of insights derived from the data.\n"
   ]
  },
  {
   "cell_type": "markdown",
   "metadata": {},
   "source": [
    "---"
   ]
  },
  {
   "cell_type": "markdown",
   "metadata": {},
   "source": [
    "## Install Python packages in the Notebook"
   ]
  },
  {
   "cell_type": "code",
   "execution_count": null,
   "metadata": {},
   "outputs": [],
   "source": [
    "%pip install -r /workspace/HeritageHousing/requirements-notebooks.txt"
   ]
  },
  {
   "cell_type": "markdown",
   "metadata": {},
   "source": [
    "## Change working directory\n",
    "\n",
    "Before starting we need to change to the correct directory (from where it is to its parent folder).\n",
    "\n",
    "We first access the current directory using os.getcwd()"
   ]
  },
  {
   "cell_type": "code",
   "execution_count": null,
   "metadata": {},
   "outputs": [],
   "source": [
    "import os\n",
    "current_dir = os.getcwd()\n",
    "current_dir"
   ]
  },
  {
   "cell_type": "markdown",
   "metadata": {},
   "source": [
    "We want to make the parent of the current directory the new current directory.\n",
    "\n",
    "* os.path.dirname() gets the parent directory\n",
    "* os.chir() defines the new current directory"
   ]
  },
  {
   "cell_type": "code",
   "execution_count": null,
   "metadata": {},
   "outputs": [],
   "source": [
    "os.chdir(os.path.dirname(current_dir))\n",
    "print(\"You set a new current directory\")"
   ]
  },
  {
   "cell_type": "markdown",
   "metadata": {},
   "source": [
    "Below will confirm the current directory"
   ]
  },
  {
   "cell_type": "code",
   "execution_count": null,
   "metadata": {},
   "outputs": [],
   "source": [
    "current_dir = os.getcwd()\n",
    "current_dir"
   ]
  },
  {
   "cell_type": "markdown",
   "metadata": {},
   "source": [
    "## Libraries Import"
   ]
  },
  {
   "cell_type": "code",
   "execution_count": 5,
   "metadata": {},
   "outputs": [],
   "source": [
    "import pandas as pd\n",
    "import seaborn as sns\n",
    "import matplotlib.pyplot as plt\n",
    "from sklearn.preprocessing import LabelEncoder"
   ]
  },
  {
   "cell_type": "markdown",
   "metadata": {},
   "source": [
    "## Load the Data"
   ]
  },
  {
   "cell_type": "markdown",
   "metadata": {},
   "source": [
    "Load the datasets"
   ]
  },
  {
   "cell_type": "code",
   "execution_count": 6,
   "metadata": {},
   "outputs": [],
   "source": [
    "df = pd.read_csv('outputs/datasets/collection/HousePricing.csv')\n",
    "inherited_houses = pd.read_csv('outputs/datasets/collection/InheritedHouses.csv')"
   ]
  },
  {
   "cell_type": "markdown",
   "metadata": {},
   "source": [
    "Display the first few rows to ensure the data loaded correctly"
   ]
  },
  {
   "cell_type": "code",
   "execution_count": null,
   "metadata": {},
   "outputs": [],
   "source": [
    "df.head()"
   ]
  },
  {
   "cell_type": "markdown",
   "metadata": {},
   "source": [
    "## Basic Summary of the Data"
   ]
  },
  {
   "cell_type": "markdown",
   "metadata": {},
   "source": [
    "Summary of the dataframe"
   ]
  },
  {
   "cell_type": "code",
   "execution_count": null,
   "metadata": {},
   "outputs": [],
   "source": [
    "df.info()"
   ]
  },
  {
   "cell_type": "markdown",
   "metadata": {},
   "source": [
    "Descriptive statistics"
   ]
  },
  {
   "cell_type": "code",
   "execution_count": null,
   "metadata": {},
   "outputs": [],
   "source": [
    "df.describe()"
   ]
  },
  {
   "cell_type": "markdown",
   "metadata": {},
   "source": [
    "## Check for Missing Values"
   ]
  },
  {
   "cell_type": "markdown",
   "metadata": {},
   "source": [
    "Check for missing values in the dataframe"
   ]
  },
  {
   "cell_type": "code",
   "execution_count": null,
   "metadata": {},
   "outputs": [],
   "source": [
    "df.isnull().sum().sort_values(ascending=False)"
   ]
  },
  {
   "cell_type": "markdown",
   "metadata": {},
   "source": [
    "## Handling Missing Values"
   ]
  },
  {
   "cell_type": "markdown",
   "metadata": {},
   "source": [
    "**Handle missing values based on the nature of the data in each column.**"
   ]
  },
  {
   "cell_type": "markdown",
   "metadata": {},
   "source": [
    "* EnclosedPorch and WoodDeckSF:\n",
    "    * Missing values likely indicate the absence of these features. Replace with 0."
   ]
  },
  {
   "cell_type": "code",
   "execution_count": null,
   "metadata": {},
   "outputs": [],
   "source": [
    "df['EnclosedPorch'].fillna(0, inplace=True)\n",
    "df['WoodDeckSF'].fillna(0, inplace=True)"
   ]
  },
  {
   "cell_type": "markdown",
   "metadata": {},
   "source": [
    "* LotFrontage:\n",
    "    * This is a critical numerical feature. Replace missing values with the median of LotFrontage."
   ]
  },
  {
   "cell_type": "code",
   "execution_count": null,
   "metadata": {},
   "outputs": [],
   "source": [
    "df['LotFrontage'].fillna(df['LotFrontage'].median(), inplace=True)"
   ]
  },
  {
   "cell_type": "markdown",
   "metadata": {},
   "source": [
    "* GarageFinish and GarageYrBlt:\n",
    "    * Missing values likely indicate no garage. Replace GarageFinish with 'No Garage' and GarageYrBlt with 0."
   ]
  },
  {
   "cell_type": "code",
   "execution_count": null,
   "metadata": {},
   "outputs": [],
   "source": [
    "df['GarageFinish'].fillna('No Garage', inplace=True)\n",
    "df['GarageYrBlt'].fillna(0, inplace=True)"
   ]
  },
  {
   "cell_type": "markdown",
   "metadata": {},
   "source": [
    "* BsmtFinType1 and BsmtExposure:\n",
    "    * Missing values likely indicate no basement. Replace with 'No Basement' and 'No Exposure'."
   ]
  },
  {
   "cell_type": "code",
   "execution_count": null,
   "metadata": {},
   "outputs": [],
   "source": [
    "df['BsmtFinType1'].fillna('No Basement', inplace=True)\n",
    "df['BsmtExposure'].fillna('No Exposure', inplace=True)"
   ]
  },
  {
   "cell_type": "markdown",
   "metadata": {},
   "source": [
    "* BedroomAbvGr:\n",
    "    * Unusual to have missing values. Fill with the mode (most common number of bedrooms)."
   ]
  },
  {
   "cell_type": "code",
   "execution_count": null,
   "metadata": {},
   "outputs": [],
   "source": [
    "df['BedroomAbvGr'].fillna(df['BedroomAbvGr'].mode()[0], inplace=True)"
   ]
  },
  {
   "cell_type": "markdown",
   "metadata": {},
   "source": [
    "* 2ndFlrSF:\n",
    "    * Missing values likely indicate no second floor. Replace with 0."
   ]
  },
  {
   "cell_type": "code",
   "execution_count": null,
   "metadata": {},
   "outputs": [],
   "source": [
    "df['2ndFlrSF'].fillna(0, inplace=True)"
   ]
  },
  {
   "cell_type": "markdown",
   "metadata": {},
   "source": [
    "* MasVnrArea:\n",
    "    * Missing values likely indicate no masonry veneer. Replace with 0."
   ]
  },
  {
   "cell_type": "code",
   "execution_count": null,
   "metadata": {},
   "outputs": [],
   "source": [
    "df['MasVnrArea'].fillna(0, inplace=True)"
   ]
  },
  {
   "cell_type": "markdown",
   "metadata": {},
   "source": [
    "## Feature Engineering"
   ]
  },
  {
   "cell_type": "markdown",
   "metadata": {},
   "source": [
    "Given that we are trying to find the corraltion between house attributes and sale price I think it would make sense to have a total sq footage column made up of total of 1st floor, 2nd floor, and basement square footage."
   ]
  },
  {
   "cell_type": "markdown",
   "metadata": {},
   "source": [
    "Create a new feature for total square footage"
   ]
  },
  {
   "cell_type": "code",
   "execution_count": 18,
   "metadata": {},
   "outputs": [],
   "source": [
    "df['TotalSF'] = df['1stFlrSF'] + df['2ndFlrSF'] + df['TotalBsmtSF']"
   ]
  },
  {
   "cell_type": "markdown",
   "metadata": {},
   "source": [
    "Inspect the new feature"
   ]
  },
  {
   "cell_type": "code",
   "execution_count": null,
   "metadata": {},
   "outputs": [],
   "source": [
    "df[['TotalSF', 'SalePrice']].head()"
   ]
  },
  {
   "cell_type": "markdown",
   "metadata": {},
   "source": [
    "Before proceeding to the corrolation tests we will check and print out which columns have categorical data first."
   ]
  },
  {
   "cell_type": "code",
   "execution_count": null,
   "metadata": {},
   "outputs": [],
   "source": [
    "categorical_cols = df.select_dtypes(include=['object']).columns\n",
    "print(\"Categorical columns:\", categorical_cols)\n"
   ]
  },
  {
   "cell_type": "markdown",
   "metadata": {},
   "source": [
    "We will use label encoding as this method will convert the categorical variables into numeric codes. Since the categories likely have an inherent order (e.g., Gd > Av > Mn > No), label encoding is appropriate."
   ]
  },
  {
   "cell_type": "markdown",
   "metadata": {},
   "source": [
    "List of categorical columns"
   ]
  },
  {
   "cell_type": "code",
   "execution_count": 21,
   "metadata": {},
   "outputs": [],
   "source": [
    "categorical_cols = ['BsmtExposure', 'BsmtFinType1', 'GarageFinish', 'KitchenQual']"
   ]
  },
  {
   "cell_type": "markdown",
   "metadata": {},
   "source": [
    "Check unique values in each categorical column before encoding"
   ]
  },
  {
   "cell_type": "code",
   "execution_count": null,
   "metadata": {},
   "outputs": [],
   "source": [
    "for col in categorical_cols:\n",
    "    print(f\"Unique values in {col}: {df[col].unique()}\")\n"
   ]
  },
  {
   "cell_type": "markdown",
   "metadata": {},
   "source": [
    "Define mappings for each categorical column"
   ]
  },
  {
   "cell_type": "code",
   "execution_count": 23,
   "metadata": {},
   "outputs": [],
   "source": [
    "bsmt_exposure_mapping = {'No': 0, 'Mn': 1, 'Av': 2, 'Gd': 3, 'No Exposure': 4}\n",
    "bsmt_fin_type_mapping = {'No Basement': 0, 'Unf': 1, 'LwQ': 2, 'Rec': 3, 'BLQ': 4, 'ALQ': 5, 'GLQ': 6}\n",
    "garage_finish_mapping = {'No Garage': 0, 'Unf': 1, 'RFn': 2, 'Fin': 3}\n",
    "kitchen_qual_mapping = {'Fa': 0, 'TA': 1, 'Gd': 2, 'Ex': 3}"
   ]
  },
  {
   "cell_type": "markdown",
   "metadata": {},
   "source": [
    "Apply the mappings"
   ]
  },
  {
   "cell_type": "code",
   "execution_count": 24,
   "metadata": {},
   "outputs": [],
   "source": [
    "df['BsmtExposure'] = df['BsmtExposure'].map(bsmt_exposure_mapping)\n",
    "df['BsmtFinType1'] = df['BsmtFinType1'].map(bsmt_fin_type_mapping)\n",
    "df['GarageFinish'] = df['GarageFinish'].map(garage_finish_mapping)\n",
    "df['KitchenQual'] = df['KitchenQual'].map(kitchen_qual_mapping)"
   ]
  },
  {
   "cell_type": "markdown",
   "metadata": {},
   "source": [
    "Check the DataFrame after mapping"
   ]
  },
  {
   "cell_type": "code",
   "execution_count": null,
   "metadata": {},
   "outputs": [],
   "source": [
    "df.head()"
   ]
  },
  {
   "cell_type": "code",
   "execution_count": null,
   "metadata": {},
   "outputs": [],
   "source": [
    "# Save the cleaned and feature-engineered data\n",
    "df.to_csv('outputs/datasets/collection/HousePricing_cleaned.csv', index=False)\n",
    "\n",
    "print(\"Cleaned and feature-engineered data saved successfully.\")\n"
   ]
  },
  {
   "cell_type": "markdown",
   "metadata": {},
   "source": [
    "## Exploratory Data Analysis (EDA) - Correlation Matrices\n",
    "\n",
    "Calculate and visualize the Pearson and Spearman correlation matrices."
   ]
  },
  {
   "cell_type": "markdown",
   "metadata": {},
   "source": [
    "* **Pearson Correlation Matrix:**\n",
    "    * Measures the linear relationship between variables."
   ]
  },
  {
   "cell_type": "code",
   "execution_count": null,
   "metadata": {},
   "outputs": [],
   "source": [
    "plt.figure(figsize=(12, 8))\n",
    "pearson_corr = df.corr(method='pearson')\n",
    "sns.heatmap(pearson_corr, annot=True, fmt='.2f', cmap='coolwarm')\n",
    "plt.title('Pearson Correlation Matrix')\n",
    "plt.show()"
   ]
  },
  {
   "cell_type": "markdown",
   "metadata": {},
   "source": [
    "* **Spearman Correlation Matrix:**\n",
    "    * Measures the monotonic relationship between variables (whether linear or not)."
   ]
  },
  {
   "cell_type": "code",
   "execution_count": null,
   "metadata": {},
   "outputs": [],
   "source": [
    "plt.figure(figsize=(12, 8))\n",
    "spearman_corr = df.corr(method='spearman')\n",
    "sns.heatmap(spearman_corr, annot=True, fmt='.2f', cmap='coolwarm')\n",
    "plt.title('Spearman Correlation Matrix')\n",
    "plt.show()"
   ]
  },
  {
   "cell_type": "markdown",
   "metadata": {},
   "source": [
    "## Pearson Correlation (Linear Relationships):"
   ]
  },
  {
   "cell_type": "markdown",
   "metadata": {},
   "source": [
    "#### Positive Correlation\n",
    "\n",
    "* **OverallQual:** Correlation of 0.79 - This indicates that the overall quality of the house has a strong positive linear relationship with a higher sale price.\n",
    "\n",
    "* **GrLivArea:** Correlation of 0.71 - The above-ground living area also shows a strong positive linear correlation with a higher sale price.\n",
    "\n",
    "* **TotalSF:** Correlation of 0.77 - The total square footage (which likely includes both above-ground and basement space) is also strongly correlated with a higher sale price.\n",
    "\n",
    "* **GarageArea:** Correlation of 0.62 - The size of the garage has a moderate positive linear correlation with a higher sale price.\n",
    "\n",
    "* **YearBuilt:** Correlation of 0.59 - Newer houses tend to have a higher sale price."
   ]
  },
  {
   "cell_type": "markdown",
   "metadata": {},
   "source": [
    "## Spearman Correlation (Monotonic Relationships):"
   ]
  },
  {
   "cell_type": "markdown",
   "metadata": {},
   "source": [
    "#### Positive Correlation\n",
    "\n",
    "* **OverallQual:** Correlation of 0.80 - This suggests that overall quality is very strongly associated with higher sale prices, even in a non-linear way.\n",
    "\n",
    "* **GrLivArea:** Correlation of 0.73 - This shows a strong monotonic relationship between living area and a higher sale price.\n",
    "\n",
    "* **TotalSF:** Correlation of 0.80 - This confirms the strong relationship between total square footage and a higher sale price.\n",
    "\n",
    "* **GarageArea:** Correlation of 0.66 - The garage area remains moderately correlated with a higher sale price in a monotonic way.\n",
    "\n",
    "* **YearBuilt:** Correlation of 0.59 - Again, newer houses tend to have higher sale prices, and this relationship is consistent even in a monotonic sense."
   ]
  },
  {
   "cell_type": "markdown",
   "metadata": {},
   "source": [
    "**Lets plot these correlations to salesprice to get a better understanding of the findings**"
   ]
  },
  {
   "cell_type": "code",
   "execution_count": null,
   "metadata": {},
   "outputs": [],
   "source": [
    "key_attributes = ['GrLivArea', 'TotalSF', 'GarageArea', 'YearBuilt']\n",
    "\n",
    "plt.figure(figsize=(15, 12))\n",
    "\n",
    "for i, attribute in enumerate(key_attributes, 1):\n",
    "    plt.subplot(3, 2, i)\n",
    "    sns.scatterplot(x=df[attribute], y=df['SalePrice'])\n",
    "    plt.title(f'SalePrice vs {attribute}')\n",
    "    plt.xlabel(attribute)\n",
    "    plt.ylabel('SalePrice')\n",
    "\n",
    "plt.tight_layout()\n",
    "plt.show()"
   ]
  },
  {
   "cell_type": "code",
   "execution_count": null,
   "metadata": {},
   "outputs": [],
   "source": [
    "\n",
    "plt.figure(figsize=(15, 12))\n",
    "\n",
    "# Plot bar chart for OverallQual\n",
    "plt.subplot(3, 2, 1)\n",
    "sns.barplot(x=df['OverallQual'], y=df['SalePrice'], errorbar=None)\n",
    "plt.title('SalePrice vs OverallQual')\n",
    "plt.xlabel('OverallQual')\n",
    "plt.ylabel('SalePrice')"
   ]
  },
  {
   "cell_type": "markdown",
   "metadata": {},
   "source": [
    "## Pearson Correlation (Linear Relationships):\n",
    "\n",
    "#### Negative Correlation\n",
    "\n",
    "* **BsmtFinType1:** Correlation of 0.01 - Indicates almost no linear relationship with the sale price.\n",
    "\n",
    "* **BsmtUnfSF:** Correlation of 0.18 - Very weak correlation with the sale price.\n",
    "\n",
    "* **EnclosedPorch:** Correlation of 0.05 - Very little correlation with the sale price.\n",
    "\n",
    "* **BedroomAbvGr:** Correlation of 0.16 - Weak correlation with sale price.\n",
    "\n",
    "* **LotFrontage:** Correlation of 0.26 - Weak correlation with sale price."
   ]
  },
  {
   "cell_type": "markdown",
   "metadata": {},
   "source": [
    "## Spearman Correlation (Monotonic Relationships):\n",
    "\n",
    "#### Negative Correlation\n",
    "\n",
    "* **EnclosedPorch:** Correlation of 0.05 - Almost no monotonic relationship with the sale price.\n",
    "\n",
    "* **BsmtFinType1:** Correlation of 0.06 - Very weak monotonic relationship with the sale price.\n",
    "\n",
    "* **BsmtUnfSF:** Correlation of 0.18 - Weak monotonic relationship with the sale price.\n",
    "\n",
    "* **LotFrontage:** Correlation of 0.29 - Weak monotonic relationship with the sale price.\n",
    "\n",
    "* **BedroomAbvGr:** Correlation of 0.47 - Somewhat weak monotonic relationship with the sale price."
   ]
  },
  {
   "cell_type": "markdown",
   "metadata": {},
   "source": [
    "**Lets plot these correlations to salesprice to get a better understanding of the findings**"
   ]
  },
  {
   "cell_type": "code",
   "execution_count": null,
   "metadata": {},
   "outputs": [],
   "source": [
    "\n",
    "# Filter out rows where EnclosedPorch is 0\n",
    "filtered_df = df[df['EnclosedPorch'] != 0]\n",
    "\n",
    "# Define the attributes\n",
    "negative_attributes = ['EnclosedPorch', 'BsmtFinType1', 'BsmtUnfSF', 'LotFrontage', 'BedroomAbvGr']\n",
    "\n",
    "plt.figure(figsize=(15, 12))\n",
    "\n",
    "# First plot: Scatter plot for EnclosedPorch after filtering\n",
    "plt.subplot(3, 2, 1)\n",
    "sns.scatterplot(x=filtered_df['EnclosedPorch'], y=filtered_df['SalePrice'])\n",
    "plt.title('SalePrice vs EnclosedPorch')\n",
    "plt.xlabel('EnclosedPorch')\n",
    "plt.ylabel('SalePrice')\n",
    "\n",
    "# Second plot: Bar plot for BsmtFinType1\n",
    "plt.subplot(3, 2, 2)\n",
    "sns.barplot(x=df['BsmtFinType1'], y=df['SalePrice'], errorbar=None)\n",
    "plt.title('SalePrice vs BsmtFinType1')\n",
    "plt.xlabel('BsmtFinType1')\n",
    "plt.ylabel('SalePrice')\n",
    "\n",
    "# Third plot: Scatter plot for BsmtUnfSF\n",
    "plt.subplot(3, 2, 3)\n",
    "sns.scatterplot(x=df['BsmtUnfSF'], y=df['SalePrice'])\n",
    "plt.title('SalePrice vs BsmtUnfSF')\n",
    "plt.xlabel('BsmtUnfSF')\n",
    "plt.ylabel('SalePrice')\n",
    "\n",
    "# Fourth plot: Scatter plot for LotFrontage\n",
    "plt.subplot(3, 2, 4)\n",
    "sns.scatterplot(x=df['LotFrontage'], y=df['SalePrice'])\n",
    "plt.title('SalePrice vs LotFrontage')\n",
    "plt.xlabel('LotFrontage')\n",
    "plt.ylabel('SalePrice')\n",
    "\n",
    "# Fifth plot: Bar plot for BedroomAbvGr\n",
    "plt.subplot(3, 2, 5)\n",
    "sns.barplot(x=df['BedroomAbvGr'], y=df['SalePrice'], errorbar=None)\n",
    "plt.title('SalePrice vs BedroomAbvGr')\n",
    "plt.xlabel('BedroomAbvGr')\n",
    "plt.ylabel('SalePrice')\n",
    "\n",
    "plt.tight_layout()\n",
    "plt.show()\n"
   ]
  },
  {
   "cell_type": "markdown",
   "metadata": {},
   "source": [
    "### **Summary of Key Takeaways from Correlation Studies and Scatter Plots**\n",
    "\n",
    "#### **1. Strongly Correlated Attributes:**\n",
    "- **OverallQual (Overall Quality):**\n",
    "  - **Pearson Correlation:** 0.79\n",
    "  - **Spearman Correlation:** 0.80\n",
    "  - **Takeaway:** This is the most strongly correlated attribute with a higher `SalePrice`. Higher quality homes tend to sell for significantly higher prices. The scatter plot shows a clear upward trend, indicating that as the quality rating increases, so does the sale price.\n",
    "\n",
    "- **GrLivArea (Above Ground Living Area):**\n",
    "  - **Pearson Correlation:** 0.71\n",
    "  - **Spearman Correlation:** 0.73\n",
    "  - **Takeaway:** The living area square footage is a strong predictor of a higher sale price. Larger homes generally command higher prices. The scatter plot demonstrates a positive linear relationship, with some outliers where large homes do not fetch high prices, potentially due to other factors.\n",
    "\n",
    "- **TotalSF (Total Square Footage):**\n",
    "  - **Pearson Correlation:** 0.77\n",
    "  - **Spearman Correlation:** 0.80\n",
    "  - **Takeaway:** The total square footage of the house (including basements) is a strong indicator of a higher sale price. The scatter plot shows a clear positive relationship, similar to `GrLivArea`.\n",
    "\n",
    "- **GarageArea (Garage Size):**\n",
    "  - **Pearson Correlation:** 0.62\n",
    "  - **Spearman Correlation:** 0.66\n",
    "  - **Takeaway:** The size of the garage also contributes positively to a higher sale price, though the correlation is not as strong as `OverallQual` or `GrLivArea`. The scatter plot shows that larger garages tend to be associated with higher sale prices, though there is more variability here.\n",
    "\n",
    "- **YearBuilt (Year the House was Built):**\n",
    "  - **Pearson Correlation:** 0.59\n",
    "  - **Spearman Correlation:** 0.59\n",
    "  - **Takeaway:** Newer homes tend to sell for higher prices. The scatter plot reveals that while newer homes generally fetch higher prices, there are instances where older homes are valued highly, likely due to factors like location or renovations.\n",
    "\n",
    "#### **2. Weakly or Negatively Correlated Attributes:**\n",
    "- **EnclosedPorch (Enclosed Porch Area):**\n",
    "  - **Pearson Correlation:** 0.05\n",
    "  - **Spearman Correlation:** 0.05\n",
    "  - **Takeaway:** This attribute shows almost no correlation with `SalePrice`. The scatter plot reveals no discernible pattern, suggesting that the enclosed porch area is not a significant factor in determining house prices.\n",
    "\n",
    "- **BsmtFinType1 (Basement Finish Type):**\n",
    "  - **Pearson Correlation:** 0.01\n",
    "  - **Spearman Correlation:** 0.06\n",
    "  - **Takeaway:** The type of basement finish has a very weak correlation with `SalePrice`. The scatter plot indicates that the different types of basement finishes do not have a consistent impact on the sale price, likely due to the varied importance of basements to different buyers.\n",
    "\n",
    "- **BsmtUnfSF (Unfinished Basement Area):**\n",
    "  - **Pearson Correlation:** 0.18\n",
    "  - **Spearman Correlation:** 0.18\n",
    "  - **Takeaway:** The unfinished square footage in the basement shows a weak correlation with the sale price. The scatter plot reveals some minor positive trends, but overall, this attribute does not heavily influence the sale price.\n",
    "\n",
    "- **LotFrontage (Linear Feet of Street Connected to Property):**\n",
    "  - **Pearson Correlation:** 0.26\n",
    "  - **Spearman Correlation:** 0.29\n",
    "  - **Takeaway:** Lot frontage has a weak positive correlation with `SalePrice`. The scatter plot shows a lot of variability, suggesting that this attribute alone does not strongly influence house prices.\n",
    "\n",
    "- **BedroomAbvGr (Number of Bedrooms Above Grade):**\n",
    "  - **Pearson Correlation:** 0.16\n",
    "  - **Spearman Correlation:** 0.47\n",
    "  - **Takeaway:** The number of bedrooms above grade has a moderate Spearman correlation but weak Pearson correlation, indicating that while more bedrooms might relate to higher sale prices, this relationship isn't linear. The scatter plot shows significant scatter, indicating other factors likely influence the sale price more than the number of bedrooms.\n",
    "\n",
    "### **Conclusion:**\n",
    "- **Strong Predictors:** Attributes like `OverallQual`, `GrLivArea`, and `TotalSF` are strong predictors of a higher `SalePrice`. These should be central to any predictive modeling or valuation efforts.\n",
    "  \n",
    "- **Weak Predictors:** Attributes like `EnclosedPorch`, `BsmtFinType1`, and `BsmtUnfSF` show little to no correlation with `SalePrice` and may have limited utility in predictive models.\n",
    "\n",
    "- **Mixed Results:** Attributes like `BedroomAbvGr` and `LotFrontage` show some correlation but are not as influential as the top predictors. These may contribute to price under certain conditions but are not as consistently strong.\n",
    "\n",
    "This analysis highlights the importance of focusing on key attributes that have a proven impact on sale prices while understanding that some features, even if relevant in other contexts, may not significantly influence the price of homes in this dataset.\n"
   ]
  }
 ],
 "metadata": {
  "kernelspec": {
   "display_name": "Python 3",
   "language": "python",
   "name": "python3"
  },
  "language_info": {
   "codemirror_mode": {
    "name": "ipython",
    "version": 3
   },
   "file_extension": ".py",
   "mimetype": "text/x-python",
   "name": "python",
   "nbconvert_exporter": "python",
   "pygments_lexer": "ipython3",
   "version": "3.12.2"
  }
 },
 "nbformat": 4,
 "nbformat_minor": 2
}
